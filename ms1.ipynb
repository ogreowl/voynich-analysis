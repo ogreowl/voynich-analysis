{
  "cells": [
    {
      "cell_type": "markdown",
      "metadata": {
        "id": "m4cG-p9v51_h"
      },
      "source": [
        "## Exploring the Voynich Manuscript Via NLP Data Analysis\n",
        "By Bobby Becker\n",
        "\n",
        "Github Pages: https://nbviewer.org/github/ogreowl/voynich/blob/main/ms1.ipynb\n"
      ]
    },
    {
      "cell_type": "markdown",
      "metadata": {
        "id": "jKEcoc9FEqgZ"
      },
      "source": [
        "**Project Overview**\n",
        "\n",
        "This project will analyze the Voynich Manuscript, a mysterious document written in an unknown language that dates back to the 15th century. The characters and words have never been seen before on any other document, which makes the task of decoding it a particularly challenging one—one which has attracted the attention of world-famous cryptographers, historians, and other people with various fields of expertise.\n",
        "\n",
        "For this class, I’d want to analyze this document using standard tools in natural language processing—such as Word2Vec models and Recurrent Neural Networks—along with some cutting-edge tools that have been developed over the past couple of years, such as BERT. I’ll also be using standard data analysis tools to measure and visualize characteristics, such as the distribution of words/characters."
      ]
    },
    {
      "cell_type": "markdown",
      "metadata": {
        "id": "S4szN7DuExAD"
      },
      "source": [
        "**Project Data**\n",
        "\n",
        "There are many different transliterations of the Voynich manuscript, which are simply mappings of the characters in the manuscript to characters in other languages used to represent them. These are normally text files, and they allow us to represent the characters, words, and the order of words in a way that can easily be computationally analyzed. For this project, I’ll be using the Glen Claston transliteration (they are all roughly the same, but this one just seemed the simplest and is stored in a plain .txt file, which is the easiest file format to work with.)\n",
        "\n",
        "A 2016 paper found that the distributions of words in the Voynich manuscript mapped pretty closely onto the words in the Hebrew language. With that in mind, I’ll also be using a dataset of the Hebrew language with the intention of using new pattern recognition tools (like BERT) to compare patterns in that language with the patterns in the Voynich manuscript. I’ll also be using embeddings of words in the English language, as that’s my first language, and it gives me a good reference point for this analysis."
      ]
    },
    {
      "cell_type": "markdown",
      "metadata": {
        "id": "j-5b9kWOE0pG"
      },
      "source": [
        "**Milestone 1 Progress**\n",
        "\n",
        "So far, for my first milestone, I have:\n",
        "\n",
        "*   Imported and cleaned the primary dataset Voynich manuscript .txt file\n",
        "*   Visualized the distribution of the most commons characters and words\n",
        "*   Used BERT to create embeddings for characters/words in the Voynich manuscript\n",
        "*   Ran PCA, T-SNE, and UMAP on those embeddings to explore their relations\n",
        "*   Created a function to measure the cosine-similarity between Voynich words & English words"
      ]
    },
    {
      "cell_type": "markdown",
      "metadata": {
        "id": "EH1H4C8lE345"
      },
      "source": [
        "**Plans for Milestone 2 and beyond:**\n",
        "\n",
        "At this point, no exciting patterns have been identified, but I’ve set up the tools and the environment necessary for the project to do a deeper analysis. By Milestone 2, I’d want to expand my analysis with these tools in a more robust and rigorous way—trying many different parameters, models, and techniques to find patterns. To do this successfully, I’ll likely need to focus in on 10-15 different words and characters and around 5 different sentences to try to derive some meaningful patterns. I’ll also find, clean, and load in a dataset of Hebrew words, which I’ll embed with the same BERT model to compare to the embeddings of the Voynich words. Finally, I’ll create a simple unsupervised deep learning model to further analyze the contextual embeddings of Voynich words as they relate to the embeddings of Hebrew and English words.\n",
        "\n",
        "Since many people much smarter than me have tried and failed to decode this manuscript, that would likely be an unfeasible goal. However, I can illustrate how modern tools in NLP can be used to uncover complex patterns that can give insight to documents like this. Ideally, I may even discover some meaningful patterns that contribute to the wider efforts to decode this manuscript.\n"
      ]
    },
    {
      "cell_type": "markdown",
      "metadata": {
        "id": "Tg3nmAwwE8fL"
      },
      "source": [
        "**Sources:**\n",
        "\n",
        "https://en.wikipedia.org/wiki/Voynich_manuscript\n",
        "\n",
        "https://www.voynich.nu/origin.html#n04\n",
        "\n",
        "https://www.tensorflow.org/text/tutorials/word2vec\n",
        "\n",
        "https://arxiv.org/abs/1810.04805\n",
        "\n",
        "https://www.voynich.nu/extra/sta.html#stalinks\n",
        "\n",
        "https://ciphermysteries.com/2009/03/18/glen-claston-on-the-voynich-manuscript\n",
        "\n",
        "https://transacl.org/ojs/index.php/tacl/article/view/821/174\n"
      ]
    },
    {
      "cell_type": "markdown",
      "metadata": {},
      "source": [
        "First,this code will let me upload the Voynich manuscript file from my desktop into my Google Collab.\n",
        "Since my dataset is relatively small, this is the simplest solution.\n",
        "The Dataset is a .txt file downloaded from https://www.voynich.nu/transcr.html. It is a transliteration of the Voynich characters onto English characters, seperated by commas and periods to represent breaks between words."
      ]
    },
    {
      "cell_type": "code",
      "execution_count": 2,
      "metadata": {
        "colab": {
          "base_uri": "https://localhost:8080/",
          "height": 92
        },
        "id": "MgYA8_vUH0AJ",
        "outputId": "c9c3c029-3f56-4ce1-d3fd-bf61a4345a94"
      },
      "outputs": [
        {
          "data": {
            "text/html": [
              "\n",
              "     <input type=\"file\" id=\"files-3e56087c-2ac6-448e-8a89-75e0982c9f2d\" name=\"files[]\" multiple disabled\n",
              "        style=\"border:none\" />\n",
              "     <output id=\"result-3e56087c-2ac6-448e-8a89-75e0982c9f2d\">\n",
              "      Upload widget is only available when the cell has been executed in the\n",
              "      current browser session. Please rerun this cell to enable.\n",
              "      </output>\n",
              "      <script>// Copyright 2017 Google LLC\n",
              "//\n",
              "// Licensed under the Apache License, Version 2.0 (the \"License\");\n",
              "// you may not use this file except in compliance with the License.\n",
              "// You may obtain a copy of the License at\n",
              "//\n",
              "//      http://www.apache.org/licenses/LICENSE-2.0\n",
              "//\n",
              "// Unless required by applicable law or agreed to in writing, software\n",
              "// distributed under the License is distributed on an \"AS IS\" BASIS,\n",
              "// WITHOUT WARRANTIES OR CONDITIONS OF ANY KIND, either express or implied.\n",
              "// See the License for the specific language governing permissions and\n",
              "// limitations under the License.\n",
              "\n",
              "/**\n",
              " * @fileoverview Helpers for google.colab Python module.\n",
              " */\n",
              "(function(scope) {\n",
              "function span(text, styleAttributes = {}) {\n",
              "  const element = document.createElement('span');\n",
              "  element.textContent = text;\n",
              "  for (const key of Object.keys(styleAttributes)) {\n",
              "    element.style[key] = styleAttributes[key];\n",
              "  }\n",
              "  return element;\n",
              "}\n",
              "\n",
              "// Max number of bytes which will be uploaded at a time.\n",
              "const MAX_PAYLOAD_SIZE = 100 * 1024;\n",
              "\n",
              "function _uploadFiles(inputId, outputId) {\n",
              "  const steps = uploadFilesStep(inputId, outputId);\n",
              "  const outputElement = document.getElementById(outputId);\n",
              "  // Cache steps on the outputElement to make it available for the next call\n",
              "  // to uploadFilesContinue from Python.\n",
              "  outputElement.steps = steps;\n",
              "\n",
              "  return _uploadFilesContinue(outputId);\n",
              "}\n",
              "\n",
              "// This is roughly an async generator (not supported in the browser yet),\n",
              "// where there are multiple asynchronous steps and the Python side is going\n",
              "// to poll for completion of each step.\n",
              "// This uses a Promise to block the python side on completion of each step,\n",
              "// then passes the result of the previous step as the input to the next step.\n",
              "function _uploadFilesContinue(outputId) {\n",
              "  const outputElement = document.getElementById(outputId);\n",
              "  const steps = outputElement.steps;\n",
              "\n",
              "  const next = steps.next(outputElement.lastPromiseValue);\n",
              "  return Promise.resolve(next.value.promise).then((value) => {\n",
              "    // Cache the last promise value to make it available to the next\n",
              "    // step of the generator.\n",
              "    outputElement.lastPromiseValue = value;\n",
              "    return next.value.response;\n",
              "  });\n",
              "}\n",
              "\n",
              "/**\n",
              " * Generator function which is called between each async step of the upload\n",
              " * process.\n",
              " * @param {string} inputId Element ID of the input file picker element.\n",
              " * @param {string} outputId Element ID of the output display.\n",
              " * @return {!Iterable<!Object>} Iterable of next steps.\n",
              " */\n",
              "function* uploadFilesStep(inputId, outputId) {\n",
              "  const inputElement = document.getElementById(inputId);\n",
              "  inputElement.disabled = false;\n",
              "\n",
              "  const outputElement = document.getElementById(outputId);\n",
              "  outputElement.innerHTML = '';\n",
              "\n",
              "  const pickedPromise = new Promise((resolve) => {\n",
              "    inputElement.addEventListener('change', (e) => {\n",
              "      resolve(e.target.files);\n",
              "    });\n",
              "  });\n",
              "\n",
              "  const cancel = document.createElement('button');\n",
              "  inputElement.parentElement.appendChild(cancel);\n",
              "  cancel.textContent = 'Cancel upload';\n",
              "  const cancelPromise = new Promise((resolve) => {\n",
              "    cancel.onclick = () => {\n",
              "      resolve(null);\n",
              "    };\n",
              "  });\n",
              "\n",
              "  // Wait for the user to pick the files.\n",
              "  const files = yield {\n",
              "    promise: Promise.race([pickedPromise, cancelPromise]),\n",
              "    response: {\n",
              "      action: 'starting',\n",
              "    }\n",
              "  };\n",
              "\n",
              "  cancel.remove();\n",
              "\n",
              "  // Disable the input element since further picks are not allowed.\n",
              "  inputElement.disabled = true;\n",
              "\n",
              "  if (!files) {\n",
              "    return {\n",
              "      response: {\n",
              "        action: 'complete',\n",
              "      }\n",
              "    };\n",
              "  }\n",
              "\n",
              "  for (const file of files) {\n",
              "    const li = document.createElement('li');\n",
              "    li.append(span(file.name, {fontWeight: 'bold'}));\n",
              "    li.append(span(\n",
              "        `(${file.type || 'n/a'}) - ${file.size} bytes, ` +\n",
              "        `last modified: ${\n",
              "            file.lastModifiedDate ? file.lastModifiedDate.toLocaleDateString() :\n",
              "                                    'n/a'} - `));\n",
              "    const percent = span('0% done');\n",
              "    li.appendChild(percent);\n",
              "\n",
              "    outputElement.appendChild(li);\n",
              "\n",
              "    const fileDataPromise = new Promise((resolve) => {\n",
              "      const reader = new FileReader();\n",
              "      reader.onload = (e) => {\n",
              "        resolve(e.target.result);\n",
              "      };\n",
              "      reader.readAsArrayBuffer(file);\n",
              "    });\n",
              "    // Wait for the data to be ready.\n",
              "    let fileData = yield {\n",
              "      promise: fileDataPromise,\n",
              "      response: {\n",
              "        action: 'continue',\n",
              "      }\n",
              "    };\n",
              "\n",
              "    // Use a chunked sending to avoid message size limits. See b/62115660.\n",
              "    let position = 0;\n",
              "    do {\n",
              "      const length = Math.min(fileData.byteLength - position, MAX_PAYLOAD_SIZE);\n",
              "      const chunk = new Uint8Array(fileData, position, length);\n",
              "      position += length;\n",
              "\n",
              "      const base64 = btoa(String.fromCharCode.apply(null, chunk));\n",
              "      yield {\n",
              "        response: {\n",
              "          action: 'append',\n",
              "          file: file.name,\n",
              "          data: base64,\n",
              "        },\n",
              "      };\n",
              "\n",
              "      let percentDone = fileData.byteLength === 0 ?\n",
              "          100 :\n",
              "          Math.round((position / fileData.byteLength) * 100);\n",
              "      percent.textContent = `${percentDone}% done`;\n",
              "\n",
              "    } while (position < fileData.byteLength);\n",
              "  }\n",
              "\n",
              "  // All done.\n",
              "  yield {\n",
              "    response: {\n",
              "      action: 'complete',\n",
              "    }\n",
              "  };\n",
              "}\n",
              "\n",
              "scope.google = scope.google || {};\n",
              "scope.google.colab = scope.google.colab || {};\n",
              "scope.google.colab._files = {\n",
              "  _uploadFiles,\n",
              "  _uploadFilesContinue,\n",
              "};\n",
              "})(self);\n",
              "</script> "
            ],
            "text/plain": [
              "<IPython.core.display.HTML object>"
            ]
          },
          "metadata": {},
          "output_type": "display_data"
        },
        {
          "name": "stdout",
          "output_type": "stream",
          "text": [
            "Saving data_cleaned.txt to data_cleaned.txt\n",
            "Uploaded file: data_cleaned.txt\n"
          ]
        }
      ],
      "source": [
        "from google.colab import files\n",
        "\n",
        "uploaded = files.upload()\n",
        "\n",
        "# This allows me to drag and drop my file into the dataset. \n",
        "for filename in uploaded.keys():\n",
        "    print(f'Uploaded file: {filename}')"
      ]
    },
    {
      "cell_type": "markdown",
      "metadata": {},
      "source": [
        " Then, I'll call that file I just uploaded and clean it so it's very simple to analyze\n",
        "After running these functions, the data is simply a series of characters seperated by commas—exactlywhat NLP tools are optimized for analyzing"
      ]
    },
    {
      "cell_type": "code",
      "execution_count": 3,
      "metadata": {
        "id": "6BkIaWlgHTci"
      },
      "outputs": [],
      "source": [
        "import re\n",
        "file_path = 'data_cleaned.txt'\n",
        "\n",
        "with open(file_path, 'r', encoding='utf-8') as file:\n",
        "    content = file.read()\n",
        "\n",
        "characters = [char for char in content if char not in [',', '.']]\n",
        "\n",
        "words = re.split(r'[,\\s]+', content.strip())\n",
        "words = [word for word in words if word]"
      ]
    },
    {
      "cell_type": "markdown",
      "metadata": {},
      "source": [
        "For our first statistic, let's look at the total number of unique character and words. This will show us the size of the alphabet and dictionary that the Voynich manuscript contains, which is important because it tells us the discrete number of symbols that we have to analyze."
      ]
    },
    {
      "cell_type": "code",
      "execution_count": 4,
      "metadata": {
        "colab": {
          "base_uri": "https://localhost:8080/",
          "height": 0
        },
        "id": "cteXL1mnHTcj",
        "outputId": "752849a1-9f63-4865-f00e-48478a16c961"
      },
      "outputs": [
        {
          "name": "stdout",
          "output_type": "stream",
          "text": [
            "Total Unique Characters: 75\n",
            "Total Unique Words: 6339\n"
          ]
        }
      ],
      "source": [
        "unique_characters = set(characters) # characters are set to be each indiviudal characters\n",
        "unique_words = set(words) # words are set to be sets of characters seperated by spaces\n",
        "\n",
        "print(f\"Total Unique Characters: {len(unique_characters)}\")\n",
        "print(f\"Total Unique Words: {len(unique_words)}\")"
      ]
    },
    {
      "cell_type": "markdown",
      "metadata": {},
      "source": [
        "75 characters—about three times as many as the English alphabet. This shows that there are quite a few different symbols in this language compared to modern day languages. \n",
        "\n",
        "And around 6339 words—intutively, this is around the amount of unique words that would be in a ~100-page document in the English language. "
      ]
    },
    {
      "cell_type": "markdown",
      "metadata": {},
      "source": [
        "Here, we'll how often every letter is shown. With this statistic, we can see how often the most common letters come up compared to the least common letters. "
      ]
    },
    {
      "cell_type": "code",
      "execution_count": 5,
      "metadata": {
        "colab": {
          "base_uri": "https://localhost:8080/",
          "height": 607
        },
        "id": "mzKrApSBHTcj",
        "outputId": "c44090f0-2795-4657-a065-b36540acf3e9"
      },
      "outputs": [
        {
          "data": {
            "image/png": "[encoded data removed]",
            "text/plain": [
              "<Figure size 1000x600 with 1 Axes>"
            ]
          },
          "metadata": {},
          "output_type": "display_data"
        }
      ],
      "source": [
        "import matplotlib.pyplot as plt\n",
        "from collections import Counter\n",
        "\n",
        "# Count the frequency of each character\n",
        "character_counts = Counter(characters)\n",
        "\n",
        "# Sort the character counts by character\n",
        "sorted_characters = sorted(character_counts.items())\n",
        "\n",
        "# Unpack the characters and their frequencies\n",
        "chars, freqs = zip(*sorted_characters)\n",
        "\n",
        "# Create the bar plot\n",
        "plt.figure(figsize=(10, 6))\n",
        "plt.bar(chars, freqs)\n",
        "plt.xlabel('Characters')\n",
        "plt.ylabel('Frequency')\n",
        "plt.title('Frequency of Each Character in the Voynich Manuscript')\n",
        "plt.xticks(rotation=90)  # Rotate x-axis labels for better readability\n",
        "plt.tight_layout()  # Adjust layout to avoid label cutoff\n",
        "\n",
        "# Display the plot\n",
        "plt.show()"
      ]
    },
    {
      "cell_type": "code",
      "execution_count": 6,
      "metadata": {
        "colab": {
          "base_uri": "https://localhost:8080/",
          "height": 580
        },
        "id": "WhgQ2XruHTcj",
        "outputId": "4261652d-c303-4898-a122-e371729722c5"
      },
      "outputs": [
        {
          "data": {
            "image/png": "[encoded data removed]",
            "text/plain": [
              "<Figure size 1200x600 with 1 Axes>"
            ]
          },
          "metadata": {},
          "output_type": "display_data"
        }
      ],
      "source": [
        "# Now, let's do the frequency of the 30 most common words:\n",
        "\n",
        "word_counts = Counter(words)\n",
        "most_common_words = word_counts.most_common(30)\n",
        "common_words, common_freqs = zip(*most_common_words)\n",
        "\n",
        "plt.figure(figsize=(12, 6))\n",
        "plt.bar(common_words, common_freqs)\n",
        "plt.xlabel('Words')\n",
        "plt.ylabel('Frequency')\n",
        "plt.title('Top 30 Most Common Words in the Voynich Manuscript')\n",
        "plt.xticks(rotation=90)\n",
        "plt.tight_layout()\n",
        "plt.show()"
      ]
    },
    {
      "cell_type": "markdown",
      "metadata": {},
      "source": [
        "Seems like a graphic that follows the distribution of words in other natural languages as well—a good sign that the voynich manuscript isn't just nonsense, but has real meaning that we just haven't been able to decode yet. "
      ]
    },
    {
      "cell_type": "markdown",
      "metadata": {},
      "source": [
        "**Natural Language Processing Analysis**\n",
        "\n",
        "\n",
        "First, here, we'll kick off the simplest (but very effective) tool from NLP. We'll train a Word2Vec model from the dataset, which will get us a vector embedding of each unique token (which are words, in this case)\n",
        "\n",
        "\n",
        "The vectors have a mathematical relation to each other. For example, in English, the vector embedding of 'Man' added to the vector embedding of 'Queen' minus the vector embedding of 'Women' would yield a vector embedding most similar to\n",
        "'King.' This is how semantic meaning is mathematically encoded. If the Voynich manuscript has semantic meaning, these types of relationships should exist in this text as well."
      ]
    },
    {
      "cell_type": "code",
      "execution_count": 7,
      "metadata": {
        "id": "mFyom_NcHTcj"
      },
      "outputs": [],
      "source": [
        "import re\n",
        "from gensim.models import Word2Vec #importing a common ML library\n",
        "\n",
        "def custom_tokenizer(text):\n",
        "    tokens = re.split(r'[,.]', text)\n",
        "    tokens = [token.strip() for token in tokens if token.strip()]\n",
        "    return tokens # Here, we tokenize the words to prepare to feed into the model. \n",
        "\n",
        "sentences = [] # We'll treat lines as sentences\n",
        "for line in content.splitlines():\n",
        "    tokens = custom_tokenizer(line)\n",
        "    if tokens:  # Only add non-empty sentences\n",
        "        sentences.append(tokens)\n",
        "\n",
        "model = Word2Vec(sentences, vector_size=100, window=5, min_count=1, sg=0) # Create model of vector size 100 (each word as 100 numbers to represent its meaning)\n",
        "\n",
        "model.save(\"voynich_word2vec.model\") # Saving model to use later\n",
        "\n",
        "if 'example_word' in model.wv:\n",
        "    print(model.wv['example_word'])"
      ]
    },
    {
      "cell_type": "code",
      "execution_count": 8,
      "metadata": {
        "colab": {
          "base_uri": "https://localhost:8080/",
          "height": 0
        },
        "id": "3KQBpMT2JFfJ",
        "outputId": "c795282f-8812-4c5c-b9cb-07dbdb1b3751"
      },
      "outputs": [
        {
          "name": "stdout",
          "output_type": "stream",
          "text": [
            "[('am', 0.9997212290763855), ('89', 0.99972003698349), ('8ay', 0.9996842741966248), ('ay', 0.9996780157089233), ('ae', 0.999660849571228), ('1c9', 0.9996318817138672), ('8am', 0.9996185302734375), ('okam', 0.9996150135993958), ('o', 0.9996011853218079), ('e', 0.9995999336242676)]\n"
          ]
        }
      ],
      "source": [
        "# Now, we can find which words are most similar to any word that we put in.\n",
        "similar_words = model.wv.most_similar('9', topn=10)\n",
        "print(similar_words)"
      ]
    },
    {
      "cell_type": "code",
      "execution_count": 12,
      "metadata": {
        "colab": {
          "base_uri": "https://localhost:8080/",
          "height": 0
        },
        "id": "oF075Gh2-3S7",
        "outputId": "e0040b28-aee5-4a3e-ca72-7b2b7d998fcf"
      },
      "outputs": [
        {
          "name": "stdout",
          "output_type": "stream",
          "text": [
            "Collecting umap-learn\n",
            "  Downloading umap_learn-0.5.6-py3-none-any.whl.metadata (21 kB)\n",
            "Requirement already satisfied: numpy>=1.17 in /usr/local/lib/python3.10/dist-packages (from umap-learn) (1.26.4)\n",
            "Requirement already satisfied: scipy>=1.3.1 in /usr/local/lib/python3.10/dist-packages (from umap-learn) (1.13.1)\n",
            "Requirement already satisfied: scikit-learn>=0.22 in /usr/local/lib/python3.10/dist-packages (from umap-learn) (1.5.2)\n",
            "Requirement already satisfied: numba>=0.51.2 in /usr/local/lib/python3.10/dist-packages (from umap-learn) (0.60.0)\n",
            "Collecting pynndescent>=0.5 (from umap-learn)\n",
            "  Downloading pynndescent-0.5.13-py3-none-any.whl.metadata (6.8 kB)\n",
            "Requirement already satisfied: tqdm in /usr/local/lib/python3.10/dist-packages (from umap-learn) (4.66.5)\n",
            "Requirement already satisfied: llvmlite<0.44,>=0.43.0dev0 in /usr/local/lib/python3.10/dist-packages (from numba>=0.51.2->umap-learn) (0.43.0)\n",
            "Requirement already satisfied: joblib>=0.11 in /usr/local/lib/python3.10/dist-packages (from pynndescent>=0.5->umap-learn) (1.4.2)\n",
            "Requirement already satisfied: threadpoolctl>=3.1.0 in /usr/local/lib/python3.10/dist-packages (from scikit-learn>=0.22->umap-learn) (3.5.0)\n",
            "Downloading umap_learn-0.5.6-py3-none-any.whl (85 kB)\n",
            "\u001b[2K   \u001b[90m━━━━━━━━━━━━━━━━━━━━━━━━━━━━━━━━━━━━━━━━\u001b[0m \u001b[32m85.7/85.7 kB\u001b[0m \u001b[31m3.3 MB/s\u001b[0m eta \u001b[36m0:00:00\u001b[0m\n",
            "\u001b[?25hDownloading pynndescent-0.5.13-py3-none-any.whl (56 kB)\n",
            "\u001b[2K   \u001b[90m━━━━━━━━━━━━━━━━━━━━━━━━━━━━━━━━━━━━━━━━\u001b[0m \u001b[32m56.9/56.9 kB\u001b[0m \u001b[31m3.7 MB/s\u001b[0m eta \u001b[36m0:00:00\u001b[0m\n",
            "\u001b[?25hInstalling collected packages: pynndescent, umap-learn\n",
            "Successfully installed pynndescent-0.5.13 umap-learn-0.5.6\n"
          ]
        }
      ],
      "source": [
        "pip install umap-learn\n",
        "# Just one requirement here that we need that isn't in the Google Collab default packages"
      ]
    },
    {
      "cell_type": "markdown",
      "metadata": {},
      "source": [
        "To visualize the relation between words created by the Word2Vec vectors, we'll use Principle Component analysis, t-SNE, and UMAP, which are all methods for reducing the data to lower dimensions."
      ]
    },
    {
      "cell_type": "code",
      "execution_count": 13,
      "metadata": {
        "colab": {
          "base_uri": "https://localhost:8080/",
          "height": 448
        },
        "id": "I3_hhi2dJffe",
        "outputId": "4eaec6fb-3279-445a-a53a-42888962fd2e"
      },
      "outputs": [
        {
          "name": "stderr",
          "output_type": "stream",
          "text": [
            "/usr/local/lib/python3.10/dist-packages/sklearn/manifold/_t_sne.py:1162: FutureWarning: 'n_iter' was renamed to 'max_iter' in version 1.5 and will be removed in 1.7.\n",
            "  warnings.warn(\n"
          ]
        },
        {
          "data": {
            "image/png": "[encoded data removed]",
            "text/plain": [
              "<Figure size 1800x600 with 3 Axes>"
            ]
          },
          "metadata": {},
          "output_type": "display_data"
        }
      ],
      "source": [
        "from sklearn.decomposition import PCA\n",
        "from sklearn.manifold import TSNE\n",
        "import umap.umap_ as umap\n",
        "import matplotlib.pyplot as plt\n",
        "\n",
        "# First, we retrieve word vectors from the model for a subset of words\n",
        "words = list(model.wv.index_to_key[:100])  # Limiting to first 100 words for simplicity\n",
        "word_vectors = model.wv[words]\n",
        "\n",
        "# PCA (Linear Dimensionality Reduction)\n",
        "pca = PCA(n_components=2)\n",
        "pca_result = pca.fit_transform(word_vectors)\n",
        "\n",
        "# t-SNE (Non-linear Dimensionality Reduction)\n",
        "tsne = TSNE(n_components=2, perplexity=30, n_iter=1000)\n",
        "tsne_result = tsne.fit_transform(word_vectors)\n",
        "\n",
        "# UMAP (Non-linear Dimensionality Reduction)\n",
        "umap_model = umap.UMAP(n_components=2)\n",
        "umap_result = umap_model.fit_transform(word_vectors)\n",
        "\n",
        "\n",
        "plt.figure(figsize=(18, 6))\n",
        "\n",
        "# PCA Plot\n",
        "plt.subplot(1, 3, 1)\n",
        "plt.scatter(pca_result[:, 0], pca_result[:, 1])\n",
        "for i, word in enumerate(words):\n",
        "    plt.annotate(word, (pca_result[i, 0], pca_result[i, 1]), fontsize=8)\n",
        "plt.title('PCA Visualization')\n",
        "\n",
        "# t-SNE Plot\n",
        "plt.subplot(1, 3, 2)\n",
        "plt.scatter(tsne_result[:, 0], tsne_result[:, 1])\n",
        "for i, word in enumerate(words):\n",
        "    plt.annotate(word, (tsne_result[i, 0], tsne_result[i, 1]), fontsize=8)\n",
        "plt.title('t-SNE Visualization')\n",
        "\n",
        "# UMAP Plot\n",
        "plt.subplot(1, 3, 3)\n",
        "plt.scatter(umap_result[:, 0], umap_result[:, 1])\n",
        "for i, word in enumerate(words):\n",
        "    plt.annotate(word, (umap_result[i, 0], umap_result[i, 1]), fontsize=8)\n",
        "plt.title('UMAP Visualization')\n",
        "\n",
        "plt.tight_layout()\n",
        "plt.show()"
      ]
    },
    {
      "cell_type": "markdown",
      "metadata": {},
      "source": [
        "Pretty cool! The first plot shows how the different words compare to each other when reduced to 2 dimensions in the most straight-forward way. The second plot reduces to 2 dimensions with a specialized algorithm that keeps track of local relations; this tells us that words next to each other on that plot are highly likely to be synonymous. UMAP focuses on global relations: it splits the words into two groups, which hints that there may be two main types of words in this language (like, verb-ish words and noun-ish words, for example)"
      ]
    },
    {
      "cell_type": "code",
      "execution_count": 14,
      "metadata": {
        "colab": {
          "base_uri": "https://localhost:8080/"
        },
        "id": "J1my379FLQEs",
        "outputId": "0e8ba70a-e656-498a-b91a-d606749a1abe"
      },
      "outputs": [
        {
          "name": "stderr",
          "output_type": "stream",
          "text": [
            "/usr/local/lib/python3.10/dist-packages/transformers/tokenization_utils_base.py:1601: FutureWarning: `clean_up_tokenization_spaces` was not set. It will be set to `True` by default. This behavior will be depracted in transformers v4.45, and will be then set to `False` by default. For more details check this issue: https://github.com/huggingface/transformers/issues/31884\n",
            "  warnings.warn(\n"
          ]
        }
      ],
      "source": [
        "# Here, we first have to tokenize the words, which basically means we'll prepare their format to something that BERT can interpret\n",
        "\n",
        "from transformers import BertTokenizerFast\n",
        "from tokenizers import BertWordPieceTokenizer\n",
        "\n",
        "\n",
        "with open(\"voynich_vocab.txt\", \"w\") as vocab_file:\n",
        "    for word in set(words):\n",
        "        vocab_file.write(f\"{word}\\n\")\n",
        "\n",
        "tokenizer = BertWordPieceTokenizer(lowercase=False)\n",
        "\n",
        "tokenizer.train(files=[\"voynich_vocab.txt\"], vocab_size=6339)\n",
        "import os\n",
        "\n",
        "os.makedirs(\"voynich_tokenizer\", exist_ok=True)\n",
        "tokenizer.save_model(\"voynich_tokenizer\")\n",
        "custom_tokenizer = BertTokenizerFast.from_pretrained(\"voynich_tokenizer\")"
      ]
    },
    {
      "cell_type": "code",
      "execution_count": 15,
      "metadata": {
        "colab": {
          "base_uri": "https://localhost:8080/"
        },
        "id": "_zVlGdW-L4yv",
        "outputId": "a6e01a75-08e4-4d1c-f267-4acd129a06c3"
      },
      "outputs": [
        {
          "name": "stdout",
          "output_type": "stream",
          "text": [
            "Input IDs shape: torch.Size([1, 128])\n",
            "Attention Mask shape: torch.Size([1, 128])\n"
          ]
        }
      ],
      "source": [
        "# Then, we join the tokenized words back together, which makes the data completely prepared\n",
        "words_text = ' '.join(words)\n",
        "\n",
        "encoded_inputs = custom_tokenizer(\n",
        "    words_text, padding=True, truncation=True, return_tensors=\"pt\", max_length=128\n",
        ")\n",
        "\n",
        "input_ids = encoded_inputs['input_ids']\n",
        "attention_mask = encoded_inputs['attention_mask']\n",
        "\n",
        "print(f\"Input IDs shape: {input_ids.shape}\")\n",
        "print(f\"Attention Mask shape: {attention_mask.shape}\")"
      ]
    },
    {
      "cell_type": "code",
      "execution_count": 16,
      "metadata": {
        "colab": {
          "base_uri": "https://localhost:8080/"
        },
        "id": "j_UsJaAwL6Z0",
        "outputId": "1e055b7c-3c8a-4232-9f4a-ac4aed29734f"
      },
      "outputs": [
        {
          "name": "stdout",
          "output_type": "stream",
          "text": [
            "Epoch 1, Loss: 8.9384126663208\n",
            "Epoch 2, Loss: 7.453071117401123\n",
            "Epoch 3, Loss: 6.673376560211182\n",
            "Epoch 4, Loss: 6.092570781707764\n",
            "Epoch 5, Loss: 5.402864933013916\n",
            "Epoch 6, Loss: 4.742955207824707\n",
            "Epoch 7, Loss: 4.055696964263916\n",
            "Epoch 8, Loss: 3.5221939086914062\n"
          ]
        }
      ],
      "source": [
        "# Here, we'll use Torch to train the model from scratch, as this is an entirely new language.\n",
        "# Our initial BERT configuration will use pretty standard parameters, but we'll probably have to experiment here to find out what works the best.\n",
        "from transformers import BertConfig, BertForMaskedLM\n",
        "import torch\n",
        "\n",
        "config = BertConfig(\n",
        "    vocab_size=6339,  # The size of your vocabulary (unique words)\n",
        "    hidden_size=768,  # Size of hidden layers\n",
        "    num_hidden_layers=12,  # Number of transformer layers\n",
        "    num_attention_heads=12,  # Number of attention heads\n",
        "    intermediate_size=3072,  # Feed-forward layer size\n",
        ")\n",
        "\n",
        "model = BertForMaskedLM(config)\n",
        "\n",
        "# Use AdamW optimizer for training\n",
        "optimizer = torch.optim.AdamW(model.parameters(), lr=5e-5)\n",
        "model.train()\n",
        "\n",
        "# Train for 8 epochs\n",
        "for epoch in range(8):\n",
        "    optimizer.zero_grad()\n",
        "    outputs = model(input_ids=input_ids, attention_mask=attention_mask, labels=input_ids)\n",
        "    loss = outputs.loss\n",
        "    loss.backward()\n",
        "    optimizer.step()\n",
        "\n",
        "    print(f\"Epoch {epoch + 1}, Loss: {loss.item()}\")"
      ]
    },
    {
      "cell_type": "code",
      "execution_count": 17,
      "metadata": {
        "colab": {
          "base_uri": "https://localhost:8080/"
        },
        "id": "G8AgCX-xMELr",
        "outputId": "72c0ca94-f98e-472a-cae2-0a0eb019c088"
      },
      "outputs": [
        {
          "data": {
            "text/plain": [
              "('voynich_tokenizer/tokenizer_config.json',\n",
              " 'voynich_tokenizer/special_tokens_map.json',\n",
              " 'voynich_tokenizer/vocab.txt',\n",
              " 'voynich_tokenizer/added_tokens.json',\n",
              " 'voynich_tokenizer/tokenizer.json')"
            ]
          },
          "execution_count": 17,
          "metadata": {},
          "output_type": "execute_result"
        }
      ],
      "source": [
        "model.save_pretrained(\"voynich_bert_model\")\n",
        "custom_tokenizer.save_pretrained(\"voynich_tokenizer\")"
      ]
    },
    {
      "cell_type": "code",
      "execution_count": 18,
      "metadata": {
        "colab": {
          "base_uri": "https://localhost:8080/"
        },
        "id": "zwQzJOJNMdVj",
        "outputId": "ffe8656f-05e2-4fca-aab4-2bbfa2a29fd3"
      },
      "outputs": [
        {
          "name": "stdout",
          "output_type": "stream",
          "text": [
            "New Word embeddings shape: (100, 768)\n"
          ]
        }
      ],
      "source": [
        "# Now, for 100 words, we have a vector of size 768 to represent its semantic meaning.\n",
        "\n",
        "encoded_inputs = custom_tokenizer(\n",
        "    words, padding=True, truncation=True, return_tensors=\"pt\", max_length=128\n",
        ")\n",
        "\n",
        "input_ids = encoded_inputs['input_ids']\n",
        "attention_mask = encoded_inputs['attention_mask']\n",
        "\n",
        "model.eval()\n",
        "with torch.no_grad():\n",
        "    outputs = model(input_ids=input_ids, attention_mask=attention_mask, output_hidden_states=True)\n",
        "\n",
        "hidden_states = outputs.hidden_states\n",
        "last_hidden_state = hidden_states[-1]\n",
        "word_embeddings = torch.mean(last_hidden_state, dim=1).numpy()\n",
        "print(f\"New Word embeddings shape: {word_embeddings.shape}\")"
      ]
    },
    {
      "cell_type": "code",
      "execution_count": 19,
      "metadata": {
        "colab": {
          "base_uri": "https://localhost:8080/",
          "height": 391
        },
        "id": "24eOHmyWMr9w",
        "outputId": "f97ba9c7-ecfa-4052-bdb4-2321f36ed2bf"
      },
      "outputs": [
        {
          "data": {
            "image/png": "[encoded data removed]",
            "text/plain": [
              "<Figure size 1800x600 with 3 Axes>"
            ]
          },
          "metadata": {},
          "output_type": "display_data"
        }
      ],
      "source": [
        "# Let's first compress these to 2D just to see what it looks like:\n",
        "\n",
        "from sklearn.decomposition import PCA\n",
        "from sklearn.manifold import TSNE\n",
        "import umap.umap_ as umap\n",
        "import matplotlib.pyplot as plt\n",
        "\n",
        "# PCA\n",
        "pca = PCA(n_components=2)\n",
        "pca_result = pca.fit_transform(word_embeddings)\n",
        "\n",
        "# t-SNE\n",
        "tsne = TSNE(n_components=2, perplexity=30, max_iter=1000)\n",
        "tsne_result = tsne.fit_transform(word_embeddings)\n",
        "\n",
        "# UMAP\n",
        "umap_model = umap.UMAP(n_components=2)\n",
        "umap_result = umap_model.fit_transform(word_embeddings)\n",
        "\n",
        "plt.figure(figsize=(18, 6))\n",
        "\n",
        "# PCA Plot\n",
        "plt.subplot(1, 3, 1)\n",
        "plt.scatter(pca_result[:, 0], pca_result[:, 1])\n",
        "plt.title('PCA Visualization')\n",
        "\n",
        "# t-SNE Plot\n",
        "plt.subplot(1, 3, 2)\n",
        "plt.scatter(tsne_result[:, 0], tsne_result[:, 1])\n",
        "plt.title('t-SNE Visualization')\n",
        "\n",
        "# UMAP Plot\n",
        "plt.subplot(1, 3, 3)\n",
        "plt.scatter(umap_result[:, 0], umap_result[:, 1])\n",
        "plt.title('UMAP Visualization')\n",
        "\n",
        "plt.tight_layout()\n",
        "plt.show()\n"
      ]
    },
    {
      "cell_type": "code",
      "execution_count": 20,
      "metadata": {
        "colab": {
          "base_uri": "https://localhost:8080/",
          "height": 358,
          "referenced_widgets": [
            "faa69149c7fb4252aa6b8c143d118b60",
            "0cfb89640a4f41a3a08630aa91ad6393",
            "d5512edb1ffb48f28eaeee77c24f4535",
            "b00780427bbf42f49b72354079a10fcf",
            "929123328e6744af92441af12b5c0371",
            "955427ba837445bd8a3628f1aea19615",
            "ab6b2dcd4e4648a5a3cc7864a7ad4549",
            "0fbc212d4f3a4253815f2c92b9bb7c89",
            "1423850da7014cc180c63a05e41a1607",
            "9907ddeb84b549b29fe68028f5974999",
            "d30a88b4e11f4fe893592eacfdd8969d",
            "d9a5c821d09e4aa597b9b1ee74497f1b",
            "d05f3f2aec3d432392b8780b847eaa39",
            "17888e5bbd8740c1b58ec79622cc563e",
            "1551e484091d481da29beb706a2dccf1",
            "e2dd53eb395f4b8f9a83be384df0f203",
            "3b0931912ce2493da35861e27e280988",
            "fed68de71fc04558978e937ae122a251",
            "32f9f9af825f48d2bb41a5a3927393fd",
            "cee2d0b945854df9b72e095c81941c38",
            "7ab5fbb229c3464db94870c11358adaf",
            "21b58f3f966a4a02a97f6999f9008788",
            "c2e7ab89697148ad950f5dcaa44ac5f2",
            "c4f6bf937f9f4aec9fad451a9d37cbd7",
            "7b5fa6bbb6094686aba0fb535a9c6b08",
            "f8fb35f08bf2436cb341f1d18a5ac1a7",
            "2d12482df373432f8bfc02b39c03da6b",
            "b790c76ba6c94c00b1d54e8e7320b590",
            "fbcf8d65726f4deeaa6668bb90109340",
            "9d318ec1b0934d279327bf6c78fcb321",
            "1e8ef859077144dd94b77760b75df6d1",
            "fbccadf71d3940c1a5545f026f5cac70",
            "ec893c35a30a42638de0aa204bd77ef8",
            "056340f8e3164f86999835ab119fe79f",
            "2847dfd86e3a4977808d04c566441afa",
            "976186f32d594996809eda6b7f6f7695",
            "330de80681e4466fb47d6059344debaa",
            "1906e0ebaa4f45349185ae901e907e33",
            "6c7082fe43474fb2aa13d830fc64d81a",
            "11e09fb0bc914dd79d957fb7dbfb18bd",
            "ec34a3862a3347fbba49ada4b93799d2",
            "b4639e303e544deca06b685e0f2a50ff",
            "fe0a6dd4e86b4630806e1f269be2d2fa",
            "58401e72819f4291a9a882f29a2dcf56",
            "0be976c97973458299a6fde5ba92fd73",
            "c18ea5029df54d44a0e3bddc3f4b02c5",
            "f7306cbe4f014ff9be9377f451bd3328",
            "0cbaae029976470499e324693e29959b",
            "a581a4dc23634edf8f955346f713e264",
            "cb866601e665458ca4c7a444cce3a2fa",
            "bed6372c3e0c48729be2ced57f6458fd",
            "9e0afb60ca4d4ef895ca56aadafe6264",
            "bcf9b88654134dc6a30e8e9533aa7870",
            "8813699a159d477dba8347f0e2954d49",
            "b43dc2b460d047e39272f53b92ad8b40"
          ]
        },
        "id": "jZLEgIPYTT7Q",
        "outputId": "234ba59a-2739-4b6c-a3e7-32270357b3a5"
      },
      "outputs": [
        {
          "name": "stderr",
          "output_type": "stream",
          "text": [
            "/usr/local/lib/python3.10/dist-packages/huggingface_hub/utils/_token.py:89: UserWarning: \n",
            "The secret `HF_TOKEN` does not exist in your Colab secrets.\n",
            "To authenticate with the Hugging Face Hub, create a token in your settings tab (https://huggingface.co/settings/tokens), set it as secret in your Google Colab and restart your session.\n",
            "You will be able to reuse this secret in all of your notebooks.\n",
            "Please note that authentication is recommended but still optional to access public models or datasets.\n",
            "  warnings.warn(\n"
          ]
        },
        {
          "data": {
            "application/vnd.jupyter.widget-view+json": {
              "model_id": "faa69149c7fb4252aa6b8c143d118b60",
              "version_major": 2,
              "version_minor": 0
            },
            "text/plain": [
              "tokenizer_config.json:   0%|          | 0.00/48.0 [00:00<?, ?B/s]"
            ]
          },
          "metadata": {},
          "output_type": "display_data"
        },
        {
          "data": {
            "application/vnd.jupyter.widget-view+json": {
              "model_id": "d9a5c821d09e4aa597b9b1ee74497f1b",
              "version_major": 2,
              "version_minor": 0
            },
            "text/plain": [
              "vocab.txt:   0%|          | 0.00/232k [00:00<?, ?B/s]"
            ]
          },
          "metadata": {},
          "output_type": "display_data"
        },
        {
          "data": {
            "application/vnd.jupyter.widget-view+json": {
              "model_id": "c2e7ab89697148ad950f5dcaa44ac5f2",
              "version_major": 2,
              "version_minor": 0
            },
            "text/plain": [
              "tokenizer.json:   0%|          | 0.00/466k [00:00<?, ?B/s]"
            ]
          },
          "metadata": {},
          "output_type": "display_data"
        },
        {
          "data": {
            "application/vnd.jupyter.widget-view+json": {
              "model_id": "056340f8e3164f86999835ab119fe79f",
              "version_major": 2,
              "version_minor": 0
            },
            "text/plain": [
              "config.json:   0%|          | 0.00/570 [00:00<?, ?B/s]"
            ]
          },
          "metadata": {},
          "output_type": "display_data"
        },
        {
          "name": "stderr",
          "output_type": "stream",
          "text": [
            "/usr/local/lib/python3.10/dist-packages/transformers/tokenization_utils_base.py:1601: FutureWarning: `clean_up_tokenization_spaces` was not set. It will be set to `True` by default. This behavior will be depracted in transformers v4.45, and will be then set to `False` by default. For more details check this issue: https://github.com/huggingface/transformers/issues/31884\n",
            "  warnings.warn(\n"
          ]
        },
        {
          "data": {
            "application/vnd.jupyter.widget-view+json": {
              "model_id": "0be976c97973458299a6fde5ba92fd73",
              "version_major": 2,
              "version_minor": 0
            },
            "text/plain": [
              "model.safetensors:   0%|          | 0.00/440M [00:00<?, ?B/s]"
            ]
          },
          "metadata": {},
          "output_type": "display_data"
        },
        {
          "name": "stdout",
          "output_type": "stream",
          "text": [
            "English word embeddings shape: (100, 768)\n"
          ]
        }
      ],
      "source": [
        "# Now, we'll compare those embeddings to the BERT embeddings of English words.\n",
        "# For this, we'll use a pre-trained model, as English-language LLMs are very well developed.\n",
        "\n",
        "from transformers import BertTokenizer, BertModel\n",
        "import torch\n",
        "\n",
        "pretrained_tokenizer = BertTokenizer.from_pretrained('bert-base-uncased')\n",
        "pretrained_model = BertModel.from_pretrained('bert-base-uncased')\n",
        "\n",
        "common_english_words = [\n",
        "    \"the\", \"be\", \"to\", \"of\", \"and\", \"a\", \"in\", \"that\", \"have\", \"I\", \"it\", \"for\", \"not\",\n",
        "    \"on\", \"with\", \"he\", \"as\", \"you\", \"do\", \"at\", \"this\", \"but\", \"his\", \"by\", \"from\",\n",
        "    \"they\", \"we\", \"say\", \"her\", \"she\", \"or\", \"an\", \"will\", \"my\", \"one\", \"all\", \"would\",\n",
        "    \"there\", \"their\", \"what\", \"so\", \"up\", \"out\", \"if\", \"about\", \"who\", \"get\", \"which\",\n",
        "    \"go\", \"me\", \"when\", \"make\", \"can\", \"like\", \"time\", \"no\", \"just\", \"him\", \"know\",\n",
        "    \"take\", \"people\", \"into\", \"year\", \"your\", \"good\", \"some\", \"could\", \"them\", \"see\",\n",
        "    \"other\", \"than\", \"then\", \"now\", \"look\", \"only\", \"come\", \"its\", \"over\", \"think\",\n",
        "    \"also\", \"back\", \"after\", \"use\", \"two\", \"how\", \"our\", \"work\", \"first\", \"well\",\n",
        "    \"way\", \"even\", \"new\", \"want\", \"because\", \"any\", \"these\", \"give\", \"day\", \"most\",\n",
        "    \"us\"\n",
        "]\n",
        "\n",
        "# Tokenize the words\n",
        "encoded_inputs = pretrained_tokenizer(common_english_words, padding=True, truncation=True, return_tensors=\"pt\")\n",
        "\n",
        "# Get the embeddings from the pre-trained BERT model\n",
        "with torch.no_grad():\n",
        "    outputs = pretrained_model(**encoded_inputs)\n",
        "    english_word_embeddings = torch.mean(outputs.last_hidden_state, dim=1).numpy()  # Pooling\n",
        "\n",
        "# Print the shape to confirm\n",
        "print(f\"English word embeddings shape: {english_word_embeddings.shape}\")"
      ]
    },
    {
      "cell_type": "code",
      "execution_count": 21,
      "metadata": {
        "colab": {
          "base_uri": "https://localhost:8080/"
        },
        "id": "bGN7lO9TT6Ug",
        "outputId": "5e4378be-c29d-45c5-f44d-408dd6f32cf0"
      },
      "outputs": [
        {
          "name": "stderr",
          "output_type": "stream",
          "text": [
            "[nltk_data] Downloading package brown to /root/nltk_data...\n",
            "[nltk_data]   Unzipping corpora/brown.zip.\n"
          ]
        },
        {
          "name": "stdout",
          "output_type": "stream",
          "text": [
            "The 500 most common English words: ['the', ',', '.', 'of', 'and', 'to', 'a', 'in', 'that', 'is']\n"
          ]
        }
      ],
      "source": [
        "# Using a dictionary (as above) turned out to be too tedious. So we'll actually just access a dictionary using nltk to get the top 500 most common\n",
        "# English words.\n",
        "import nltk\n",
        "from nltk.corpus import brown\n",
        "from collections import Counter\n",
        "\n",
        "# Download the Brown corpus (if you haven't already)\n",
        "nltk.download('brown')\n",
        "\n",
        "# Get words from the Brown corpus (a large body of English text)\n",
        "words_in_brown = brown.words()\n",
        "\n",
        "# Calculate word frequencies\n",
        "word_freq = Counter(words_in_brown)\n",
        "\n",
        "# Get the 500 most common words\n",
        "common_english_words = [word.lower() for word, _ in word_freq.most_common(100)]\n",
        "\n",
        "# Print the first few words\n",
        "print(f\"The 500 most common English words: {common_english_words[:10]}\")"
      ]
    },
    {
      "cell_type": "code",
      "execution_count": 22,
      "metadata": {
        "colab": {
          "base_uri": "https://localhost:8080/"
        },
        "id": "QuU63eSbUQ0G",
        "outputId": "24ef9e7b-bbfc-422a-8aef-f4e3ae49dcd5"
      },
      "outputs": [
        {
          "name": "stdout",
          "output_type": "stream",
          "text": [
            "English word embeddings shape: (100, 768)\n"
          ]
        }
      ],
      "source": [
        "# Now we create vector representations of them using BERT\n",
        "from transformers import BertTokenizer, BertModel\n",
        "import torch\n",
        "\n",
        "# Load pre-trained BERT model and tokenizer\n",
        "pretrained_tokenizer = BertTokenizer.from_pretrained('bert-base-uncased')\n",
        "pretrained_model = BertModel.from_pretrained('bert-base-uncased')\n",
        "\n",
        "# Tokenize the 500 most common English words using the pre-trained tokenizer\n",
        "encoded_inputs = pretrained_tokenizer(common_english_words, padding=True, truncation=True, return_tensors=\"pt\")\n",
        "\n",
        "# Get the embeddings from the pre-trained BERT model\n",
        "with torch.no_grad():\n",
        "    outputs = pretrained_model(**encoded_inputs)\n",
        "    english_word_embeddings = torch.mean(outputs.last_hidden_state, dim=1).numpy()  # Pooling\n",
        "\n",
        "# Print shape to confirm\n",
        "print(f\"English word embeddings shape: {english_word_embeddings.shape}\")\n"
      ]
    },
    {
      "cell_type": "code",
      "execution_count": 23,
      "metadata": {
        "colab": {
          "base_uri": "https://localhost:8080/"
        },
        "id": "nMI4XEbmTjCo",
        "outputId": "d6f57d53-a330-4f25-ab72-9c6131b3bf4f"
      },
      "outputs": [
        {
          "name": "stdout",
          "output_type": "stream",
          "text": [
            "Enter a Voynich word: 9\n",
            "Top 10 most similar English words to '9': [':', 'that', 'will', 'had', ')', 'are', 'about', 'or', 'said', 'time']\n"
          ]
        }
      ],
      "source": [
        "# And now, we can create a function that takes in a Voynich word (embedded with BERT), finds the English words with the most similar embeddings,\n",
        "# and displays them. Ideally, if a Voynich word means 'plant', it could have a close cosine similarity to English words that mean 'plant.'\n",
        "# We'll probably have to iterate this function to find any obvious pattern like that, however.\n",
        "\n",
        "from sklearn.metrics.pairwise import cosine_similarity\n",
        "import torch\n",
        "import numpy as np\n",
        "\n",
        "def get_most_similar_english_words(voynich_word):\n",
        "    encoded_input = custom_tokenizer(voynich_word, return_tensors='pt')\n",
        "    with torch.no_grad():\n",
        "        outputs = model(**encoded_input, output_hidden_states=True)  # Request hidden states\n",
        "        last_hidden_state = outputs.hidden_states[-1]  # Last layer hidden state\n",
        "        voynich_word_embedding = torch.mean(last_hidden_state, dim=1).numpy()\n",
        "\n",
        "    # Compute cosine similarities between the Voynich word and all English word embeddings\n",
        "    similarities = cosine_similarity(voynich_word_embedding, english_word_embeddings)\n",
        "\n",
        "    top_10_indices = np.argsort(similarities[0])[-10:][::-1]\n",
        "    top_10_english_words = [common_english_words[i] for i in top_10_indices]\n",
        "\n",
        "    return top_10_english_words\n",
        "\n",
        "voynich_word = input(\"Enter a Voynich word: \")\n",
        "similar_words = get_most_similar_english_words(voynich_word)\n",
        "\n",
        "# Output the top 10 most similar English words\n",
        "print(f\"Top 10 most similar English words to '{voynich_word}': {similar_words}\")"
      ]
    }
  ],
  "metadata": {
    "colab": {
      "provenance": []
    },
    "kernelspec": {
      "display_name": "Python 3",
      "language": "python",
      "name": "python3"
    },
    "language_info": {
      "codemirror_mode": {
        "name": "ipython",
        "version": 3
      },
      "file_extension": ".py",
      "mimetype": "text/x-python",
      "name": "python",
      "nbconvert_exporter": "python",
      "pygments_lexer": "ipython3",
      "version": "3.12.6"
    },
    "widgets": {
      "application/vnd.jupyter.widget-state+json": {
        "056340f8e3164f86999835ab119fe79f": {
          "model_module": "@jupyter-widgets/controls",
          "model_module_version": "1.5.0",
          "model_name": "HBoxModel",
          "state": {
            "_dom_classes": [],
            "_model_module": "@jupyter-widgets/controls",
            "_model_module_version": "1.5.0",
            "_model_name": "HBoxModel",
            "_view_count": null,
            "_view_module": "@jupyter-widgets/controls",
            "_view_module_version": "1.5.0",
            "_view_name": "HBoxView",
            "box_style": "",
            "children": [
              "IPY_MODEL_2847dfd86e3a4977808d04c566441afa",
              "IPY_MODEL_976186f32d594996809eda6b7f6f7695",
              "IPY_MODEL_330de80681e4466fb47d6059344debaa"
            ],
            "layout": "IPY_MODEL_1906e0ebaa4f45349185ae901e907e33"
          }
        },
        "0be976c97973458299a6fde5ba92fd73": {
          "model_module": "@jupyter-widgets/controls",
          "model_module_version": "1.5.0",
          "model_name": "HBoxModel",
          "state": {
            "_dom_classes": [],
            "_model_module": "@jupyter-widgets/controls",
            "_model_module_version": "1.5.0",
            "_model_name": "HBoxModel",
            "_view_count": null,
            "_view_module": "@jupyter-widgets/controls",
            "_view_module_version": "1.5.0",
            "_view_name": "HBoxView",
            "box_style": "",
            "children": [
              "IPY_MODEL_c18ea5029df54d44a0e3bddc3f4b02c5",
              "IPY_MODEL_f7306cbe4f014ff9be9377f451bd3328",
              "IPY_MODEL_0cbaae029976470499e324693e29959b"
            ],
            "layout": "IPY_MODEL_a581a4dc23634edf8f955346f713e264"
          }
        },
        "0cbaae029976470499e324693e29959b": {
          "model_module": "@jupyter-widgets/controls",
          "model_module_version": "1.5.0",
          "model_name": "HTMLModel",
          "state": {
            "_dom_classes": [],
            "_model_module": "@jupyter-widgets/controls",
            "_model_module_version": "1.5.0",
            "_model_name": "HTMLModel",
            "_view_count": null,
            "_view_module": "@jupyter-widgets/controls",
            "_view_module_version": "1.5.0",
            "_view_name": "HTMLView",
            "description": "",
            "description_tooltip": null,
            "layout": "IPY_MODEL_8813699a159d477dba8347f0e2954d49",
            "placeholder": "​",
            "style": "IPY_MODEL_b43dc2b460d047e39272f53b92ad8b40",
            "value": " 440M/440M [00:05&lt;00:00, 78.1MB/s]"
          }
        },
        "0cfb89640a4f41a3a08630aa91ad6393": {
          "model_module": "@jupyter-widgets/controls",
          "model_module_version": "1.5.0",
          "model_name": "HTMLModel",
          "state": {
            "_dom_classes": [],
            "_model_module": "@jupyter-widgets/controls",
            "_model_module_version": "1.5.0",
            "_model_name": "HTMLModel",
            "_view_count": null,
            "_view_module": "@jupyter-widgets/controls",
            "_view_module_version": "1.5.0",
            "_view_name": "HTMLView",
            "description": "",
            "description_tooltip": null,
            "layout": "IPY_MODEL_955427ba837445bd8a3628f1aea19615",
            "placeholder": "​",
            "style": "IPY_MODEL_ab6b2dcd4e4648a5a3cc7864a7ad4549",
            "value": "tokenizer_config.json: 100%"
          }
        },
        "0fbc212d4f3a4253815f2c92b9bb7c89": {
          "model_module": "@jupyter-widgets/base",
          "model_module_version": "1.2.0",
          "model_name": "LayoutModel",
          "state": {
            "_model_module": "@jupyter-widgets/base",
            "_model_module_version": "1.2.0",
            "_model_name": "LayoutModel",
            "_view_count": null,
            "_view_module": "@jupyter-widgets/base",
            "_view_module_version": "1.2.0",
            "_view_name": "LayoutView",
            "align_content": null,
            "align_items": null,
            "align_self": null,
            "border": null,
            "bottom": null,
            "display": null,
            "flex": null,
            "flex_flow": null,
            "grid_area": null,
            "grid_auto_columns": null,
            "grid_auto_flow": null,
            "grid_auto_rows": null,
            "grid_column": null,
            "grid_gap": null,
            "grid_row": null,
            "grid_template_areas": null,
            "grid_template_columns": null,
            "grid_template_rows": null,
            "height": null,
            "justify_content": null,
            "justify_items": null,
            "left": null,
            "margin": null,
            "max_height": null,
            "max_width": null,
            "min_height": null,
            "min_width": null,
            "object_fit": null,
            "object_position": null,
            "order": null,
            "overflow": null,
            "overflow_x": null,
            "overflow_y": null,
            "padding": null,
            "right": null,
            "top": null,
            "visibility": null,
            "width": null
          }
        },
        "11e09fb0bc914dd79d957fb7dbfb18bd": {
          "model_module": "@jupyter-widgets/controls",
          "model_module_version": "1.5.0",
          "model_name": "DescriptionStyleModel",
          "state": {
            "_model_module": "@jupyter-widgets/controls",
            "_model_module_version": "1.5.0",
            "_model_name": "DescriptionStyleModel",
            "_view_count": null,
            "_view_module": "@jupyter-widgets/base",
            "_view_module_version": "1.2.0",
            "_view_name": "StyleView",
            "description_width": ""
          }
        },
        "1423850da7014cc180c63a05e41a1607": {
          "model_module": "@jupyter-widgets/controls",
          "model_module_version": "1.5.0",
          "model_name": "ProgressStyleModel",
          "state": {
            "_model_module": "@jupyter-widgets/controls",
            "_model_module_version": "1.5.0",
            "_model_name": "ProgressStyleModel",
            "_view_count": null,
            "_view_module": "@jupyter-widgets/base",
            "_view_module_version": "1.2.0",
            "_view_name": "StyleView",
            "bar_color": null,
            "description_width": ""
          }
        },
        "1551e484091d481da29beb706a2dccf1": {
          "model_module": "@jupyter-widgets/controls",
          "model_module_version": "1.5.0",
          "model_name": "HTMLModel",
          "state": {
            "_dom_classes": [],
            "_model_module": "@jupyter-widgets/controls",
            "_model_module_version": "1.5.0",
            "_model_name": "HTMLModel",
            "_view_count": null,
            "_view_module": "@jupyter-widgets/controls",
            "_view_module_version": "1.5.0",
            "_view_name": "HTMLView",
            "description": "",
            "description_tooltip": null,
            "layout": "IPY_MODEL_7ab5fbb229c3464db94870c11358adaf",
            "placeholder": "​",
            "style": "IPY_MODEL_21b58f3f966a4a02a97f6999f9008788",
            "value": " 232k/232k [00:00&lt;00:00, 4.15MB/s]"
          }
        },
        "17888e5bbd8740c1b58ec79622cc563e": {
          "model_module": "@jupyter-widgets/controls",
          "model_module_version": "1.5.0",
          "model_name": "FloatProgressModel",
          "state": {
            "_dom_classes": [],
            "_model_module": "@jupyter-widgets/controls",
            "_model_module_version": "1.5.0",
            "_model_name": "FloatProgressModel",
            "_view_count": null,
            "_view_module": "@jupyter-widgets/controls",
            "_view_module_version": "1.5.0",
            "_view_name": "ProgressView",
            "bar_style": "success",
            "description": "",
            "description_tooltip": null,
            "layout": "IPY_MODEL_32f9f9af825f48d2bb41a5a3927393fd",
            "max": 231508,
            "min": 0,
            "orientation": "horizontal",
            "style": "IPY_MODEL_cee2d0b945854df9b72e095c81941c38",
            "value": 231508
          }
        },
        "1906e0ebaa4f45349185ae901e907e33": {
          "model_module": "@jupyter-widgets/base",
          "model_module_version": "1.2.0",
          "model_name": "LayoutModel",
          "state": {
            "_model_module": "@jupyter-widgets/base",
            "_model_module_version": "1.2.0",
            "_model_name": "LayoutModel",
            "_view_count": null,
            "_view_module": "@jupyter-widgets/base",
            "_view_module_version": "1.2.0",
            "_view_name": "LayoutView",
            "align_content": null,
            "align_items": null,
            "align_self": null,
            "border": null,
            "bottom": null,
            "display": null,
            "flex": null,
            "flex_flow": null,
            "grid_area": null,
            "grid_auto_columns": null,
            "grid_auto_flow": null,
            "grid_auto_rows": null,
            "grid_column": null,
            "grid_gap": null,
            "grid_row": null,
            "grid_template_areas": null,
            "grid_template_columns": null,
            "grid_template_rows": null,
            "height": null,
            "justify_content": null,
            "justify_items": null,
            "left": null,
            "margin": null,
            "max_height": null,
            "max_width": null,
            "min_height": null,
            "min_width": null,
            "object_fit": null,
            "object_position": null,
            "order": null,
            "overflow": null,
            "overflow_x": null,
            "overflow_y": null,
            "padding": null,
            "right": null,
            "top": null,
            "visibility": null,
            "width": null
          }
        },
        "1e8ef859077144dd94b77760b75df6d1": {
          "model_module": "@jupyter-widgets/controls",
          "model_module_version": "1.5.0",
          "model_name": "ProgressStyleModel",
          "state": {
            "_model_module": "@jupyter-widgets/controls",
            "_model_module_version": "1.5.0",
            "_model_name": "ProgressStyleModel",
            "_view_count": null,
            "_view_module": "@jupyter-widgets/base",
            "_view_module_version": "1.2.0",
            "_view_name": "StyleView",
            "bar_color": null,
            "description_width": ""
          }
        },
        "21b58f3f966a4a02a97f6999f9008788": {
          "model_module": "@jupyter-widgets/controls",
          "model_module_version": "1.5.0",
          "model_name": "DescriptionStyleModel",
          "state": {
            "_model_module": "@jupyter-widgets/controls",
            "_model_module_version": "1.5.0",
            "_model_name": "DescriptionStyleModel",
            "_view_count": null,
            "_view_module": "@jupyter-widgets/base",
            "_view_module_version": "1.2.0",
            "_view_name": "StyleView",
            "description_width": ""
          }
        },
        "2847dfd86e3a4977808d04c566441afa": {
          "model_module": "@jupyter-widgets/controls",
          "model_module_version": "1.5.0",
          "model_name": "HTMLModel",
          "state": {
            "_dom_classes": [],
            "_model_module": "@jupyter-widgets/controls",
            "_model_module_version": "1.5.0",
            "_model_name": "HTMLModel",
            "_view_count": null,
            "_view_module": "@jupyter-widgets/controls",
            "_view_module_version": "1.5.0",
            "_view_name": "HTMLView",
            "description": "",
            "description_tooltip": null,
            "layout": "IPY_MODEL_6c7082fe43474fb2aa13d830fc64d81a",
            "placeholder": "​",
            "style": "IPY_MODEL_11e09fb0bc914dd79d957fb7dbfb18bd",
            "value": "config.json: 100%"
          }
        },
        "2d12482df373432f8bfc02b39c03da6b": {
          "model_module": "@jupyter-widgets/base",
          "model_module_version": "1.2.0",
          "model_name": "LayoutModel",
          "state": {
            "_model_module": "@jupyter-widgets/base",
            "_model_module_version": "1.2.0",
            "_model_name": "LayoutModel",
            "_view_count": null,
            "_view_module": "@jupyter-widgets/base",
            "_view_module_version": "1.2.0",
            "_view_name": "LayoutView",
            "align_content": null,
            "align_items": null,
            "align_self": null,
            "border": null,
            "bottom": null,
            "display": null,
            "flex": null,
            "flex_flow": null,
            "grid_area": null,
            "grid_auto_columns": null,
            "grid_auto_flow": null,
            "grid_auto_rows": null,
            "grid_column": null,
            "grid_gap": null,
            "grid_row": null,
            "grid_template_areas": null,
            "grid_template_columns": null,
            "grid_template_rows": null,
            "height": null,
            "justify_content": null,
            "justify_items": null,
            "left": null,
            "margin": null,
            "max_height": null,
            "max_width": null,
            "min_height": null,
            "min_width": null,
            "object_fit": null,
            "object_position": null,
            "order": null,
            "overflow": null,
            "overflow_x": null,
            "overflow_y": null,
            "padding": null,
            "right": null,
            "top": null,
            "visibility": null,
            "width": null
          }
        },
        "32f9f9af825f48d2bb41a5a3927393fd": {
          "model_module": "@jupyter-widgets/base",
          "model_module_version": "1.2.0",
          "model_name": "LayoutModel",
          "state": {
            "_model_module": "@jupyter-widgets/base",
            "_model_module_version": "1.2.0",
            "_model_name": "LayoutModel",
            "_view_count": null,
            "_view_module": "@jupyter-widgets/base",
            "_view_module_version": "1.2.0",
            "_view_name": "LayoutView",
            "align_content": null,
            "align_items": null,
            "align_self": null,
            "border": null,
            "bottom": null,
            "display": null,
            "flex": null,
            "flex_flow": null,
            "grid_area": null,
            "grid_auto_columns": null,
            "grid_auto_flow": null,
            "grid_auto_rows": null,
            "grid_column": null,
            "grid_gap": null,
            "grid_row": null,
            "grid_template_areas": null,
            "grid_template_columns": null,
            "grid_template_rows": null,
            "height": null,
            "justify_content": null,
            "justify_items": null,
            "left": null,
            "margin": null,
            "max_height": null,
            "max_width": null,
            "min_height": null,
            "min_width": null,
            "object_fit": null,
            "object_position": null,
            "order": null,
            "overflow": null,
            "overflow_x": null,
            "overflow_y": null,
            "padding": null,
            "right": null,
            "top": null,
            "visibility": null,
            "width": null
          }
        },
        "330de80681e4466fb47d6059344debaa": {
          "model_module": "@jupyter-widgets/controls",
          "model_module_version": "1.5.0",
          "model_name": "HTMLModel",
          "state": {
            "_dom_classes": [],
            "_model_module": "@jupyter-widgets/controls",
            "_model_module_version": "1.5.0",
            "_model_name": "HTMLModel",
            "_view_count": null,
            "_view_module": "@jupyter-widgets/controls",
            "_view_module_version": "1.5.0",
            "_view_name": "HTMLView",
            "description": "",
            "description_tooltip": null,
            "layout": "IPY_MODEL_fe0a6dd4e86b4630806e1f269be2d2fa",
            "placeholder": "​",
            "style": "IPY_MODEL_58401e72819f4291a9a882f29a2dcf56",
            "value": " 570/570 [00:00&lt;00:00, 19.9kB/s]"
          }
        },
        "3b0931912ce2493da35861e27e280988": {
          "model_module": "@jupyter-widgets/base",
          "model_module_version": "1.2.0",
          "model_name": "LayoutModel",
          "state": {
            "_model_module": "@jupyter-widgets/base",
            "_model_module_version": "1.2.0",
            "_model_name": "LayoutModel",
            "_view_count": null,
            "_view_module": "@jupyter-widgets/base",
            "_view_module_version": "1.2.0",
            "_view_name": "LayoutView",
            "align_content": null,
            "align_items": null,
            "align_self": null,
            "border": null,
            "bottom": null,
            "display": null,
            "flex": null,
            "flex_flow": null,
            "grid_area": null,
            "grid_auto_columns": null,
            "grid_auto_flow": null,
            "grid_auto_rows": null,
            "grid_column": null,
            "grid_gap": null,
            "grid_row": null,
            "grid_template_areas": null,
            "grid_template_columns": null,
            "grid_template_rows": null,
            "height": null,
            "justify_content": null,
            "justify_items": null,
            "left": null,
            "margin": null,
            "max_height": null,
            "max_width": null,
            "min_height": null,
            "min_width": null,
            "object_fit": null,
            "object_position": null,
            "order": null,
            "overflow": null,
            "overflow_x": null,
            "overflow_y": null,
            "padding": null,
            "right": null,
            "top": null,
            "visibility": null,
            "width": null
          }
        },
        "58401e72819f4291a9a882f29a2dcf56": {
          "model_module": "@jupyter-widgets/controls",
          "model_module_version": "1.5.0",
          "model_name": "DescriptionStyleModel",
          "state": {
            "_model_module": "@jupyter-widgets/controls",
            "_model_module_version": "1.5.0",
            "_model_name": "DescriptionStyleModel",
            "_view_count": null,
            "_view_module": "@jupyter-widgets/base",
            "_view_module_version": "1.2.0",
            "_view_name": "StyleView",
            "description_width": ""
          }
        },
        "6c7082fe43474fb2aa13d830fc64d81a": {
          "model_module": "@jupyter-widgets/base",
          "model_module_version": "1.2.0",
          "model_name": "LayoutModel",
          "state": {
            "_model_module": "@jupyter-widgets/base",
            "_model_module_version": "1.2.0",
            "_model_name": "LayoutModel",
            "_view_count": null,
            "_view_module": "@jupyter-widgets/base",
            "_view_module_version": "1.2.0",
            "_view_name": "LayoutView",
            "align_content": null,
            "align_items": null,
            "align_self": null,
            "border": null,
            "bottom": null,
            "display": null,
            "flex": null,
            "flex_flow": null,
            "grid_area": null,
            "grid_auto_columns": null,
            "grid_auto_flow": null,
            "grid_auto_rows": null,
            "grid_column": null,
            "grid_gap": null,
            "grid_row": null,
            "grid_template_areas": null,
            "grid_template_columns": null,
            "grid_template_rows": null,
            "height": null,
            "justify_content": null,
            "justify_items": null,
            "left": null,
            "margin": null,
            "max_height": null,
            "max_width": null,
            "min_height": null,
            "min_width": null,
            "object_fit": null,
            "object_position": null,
            "order": null,
            "overflow": null,
            "overflow_x": null,
            "overflow_y": null,
            "padding": null,
            "right": null,
            "top": null,
            "visibility": null,
            "width": null
          }
        },
        "7ab5fbb229c3464db94870c11358adaf": {
          "model_module": "@jupyter-widgets/base",
          "model_module_version": "1.2.0",
          "model_name": "LayoutModel",
          "state": {
            "_model_module": "@jupyter-widgets/base",
            "_model_module_version": "1.2.0",
            "_model_name": "LayoutModel",
            "_view_count": null,
            "_view_module": "@jupyter-widgets/base",
            "_view_module_version": "1.2.0",
            "_view_name": "LayoutView",
            "align_content": null,
            "align_items": null,
            "align_self": null,
            "border": null,
            "bottom": null,
            "display": null,
            "flex": null,
            "flex_flow": null,
            "grid_area": null,
            "grid_auto_columns": null,
            "grid_auto_flow": null,
            "grid_auto_rows": null,
            "grid_column": null,
            "grid_gap": null,
            "grid_row": null,
            "grid_template_areas": null,
            "grid_template_columns": null,
            "grid_template_rows": null,
            "height": null,
            "justify_content": null,
            "justify_items": null,
            "left": null,
            "margin": null,
            "max_height": null,
            "max_width": null,
            "min_height": null,
            "min_width": null,
            "object_fit": null,
            "object_position": null,
            "order": null,
            "overflow": null,
            "overflow_x": null,
            "overflow_y": null,
            "padding": null,
            "right": null,
            "top": null,
            "visibility": null,
            "width": null
          }
        },
        "7b5fa6bbb6094686aba0fb535a9c6b08": {
          "model_module": "@jupyter-widgets/controls",
          "model_module_version": "1.5.0",
          "model_name": "FloatProgressModel",
          "state": {
            "_dom_classes": [],
            "_model_module": "@jupyter-widgets/controls",
            "_model_module_version": "1.5.0",
            "_model_name": "FloatProgressModel",
            "_view_count": null,
            "_view_module": "@jupyter-widgets/controls",
            "_view_module_version": "1.5.0",
            "_view_name": "ProgressView",
            "bar_style": "success",
            "description": "",
            "description_tooltip": null,
            "layout": "IPY_MODEL_9d318ec1b0934d279327bf6c78fcb321",
            "max": 466062,
            "min": 0,
            "orientation": "horizontal",
            "style": "IPY_MODEL_1e8ef859077144dd94b77760b75df6d1",
            "value": 466062
          }
        },
        "8813699a159d477dba8347f0e2954d49": {
          "model_module": "@jupyter-widgets/base",
          "model_module_version": "1.2.0",
          "model_name": "LayoutModel",
          "state": {
            "_model_module": "@jupyter-widgets/base",
            "_model_module_version": "1.2.0",
            "_model_name": "LayoutModel",
            "_view_count": null,
            "_view_module": "@jupyter-widgets/base",
            "_view_module_version": "1.2.0",
            "_view_name": "LayoutView",
            "align_content": null,
            "align_items": null,
            "align_self": null,
            "border": null,
            "bottom": null,
            "display": null,
            "flex": null,
            "flex_flow": null,
            "grid_area": null,
            "grid_auto_columns": null,
            "grid_auto_flow": null,
            "grid_auto_rows": null,
            "grid_column": null,
            "grid_gap": null,
            "grid_row": null,
            "grid_template_areas": null,
            "grid_template_columns": null,
            "grid_template_rows": null,
            "height": null,
            "justify_content": null,
            "justify_items": null,
            "left": null,
            "margin": null,
            "max_height": null,
            "max_width": null,
            "min_height": null,
            "min_width": null,
            "object_fit": null,
            "object_position": null,
            "order": null,
            "overflow": null,
            "overflow_x": null,
            "overflow_y": null,
            "padding": null,
            "right": null,
            "top": null,
            "visibility": null,
            "width": null
          }
        },
        "929123328e6744af92441af12b5c0371": {
          "model_module": "@jupyter-widgets/base",
          "model_module_version": "1.2.0",
          "model_name": "LayoutModel",
          "state": {
            "_model_module": "@jupyter-widgets/base",
            "_model_module_version": "1.2.0",
            "_model_name": "LayoutModel",
            "_view_count": null,
            "_view_module": "@jupyter-widgets/base",
            "_view_module_version": "1.2.0",
            "_view_name": "LayoutView",
            "align_content": null,
            "align_items": null,
            "align_self": null,
            "border": null,
            "bottom": null,
            "display": null,
            "flex": null,
            "flex_flow": null,
            "grid_area": null,
            "grid_auto_columns": null,
            "grid_auto_flow": null,
            "grid_auto_rows": null,
            "grid_column": null,
            "grid_gap": null,
            "grid_row": null,
            "grid_template_areas": null,
            "grid_template_columns": null,
            "grid_template_rows": null,
            "height": null,
            "justify_content": null,
            "justify_items": null,
            "left": null,
            "margin": null,
            "max_height": null,
            "max_width": null,
            "min_height": null,
            "min_width": null,
            "object_fit": null,
            "object_position": null,
            "order": null,
            "overflow": null,
            "overflow_x": null,
            "overflow_y": null,
            "padding": null,
            "right": null,
            "top": null,
            "visibility": null,
            "width": null
          }
        },
        "955427ba837445bd8a3628f1aea19615": {
          "model_module": "@jupyter-widgets/base",
          "model_module_version": "1.2.0",
          "model_name": "LayoutModel",
          "state": {
            "_model_module": "@jupyter-widgets/base",
            "_model_module_version": "1.2.0",
            "_model_name": "LayoutModel",
            "_view_count": null,
            "_view_module": "@jupyter-widgets/base",
            "_view_module_version": "1.2.0",
            "_view_name": "LayoutView",
            "align_content": null,
            "align_items": null,
            "align_self": null,
            "border": null,
            "bottom": null,
            "display": null,
            "flex": null,
            "flex_flow": null,
            "grid_area": null,
            "grid_auto_columns": null,
            "grid_auto_flow": null,
            "grid_auto_rows": null,
            "grid_column": null,
            "grid_gap": null,
            "grid_row": null,
            "grid_template_areas": null,
            "grid_template_columns": null,
            "grid_template_rows": null,
            "height": null,
            "justify_content": null,
            "justify_items": null,
            "left": null,
            "margin": null,
            "max_height": null,
            "max_width": null,
            "min_height": null,
            "min_width": null,
            "object_fit": null,
            "object_position": null,
            "order": null,
            "overflow": null,
            "overflow_x": null,
            "overflow_y": null,
            "padding": null,
            "right": null,
            "top": null,
            "visibility": null,
            "width": null
          }
        },
        "976186f32d594996809eda6b7f6f7695": {
          "model_module": "@jupyter-widgets/controls",
          "model_module_version": "1.5.0",
          "model_name": "FloatProgressModel",
          "state": {
            "_dom_classes": [],
            "_model_module": "@jupyter-widgets/controls",
            "_model_module_version": "1.5.0",
            "_model_name": "FloatProgressModel",
            "_view_count": null,
            "_view_module": "@jupyter-widgets/controls",
            "_view_module_version": "1.5.0",
            "_view_name": "ProgressView",
            "bar_style": "success",
            "description": "",
            "description_tooltip": null,
            "layout": "IPY_MODEL_ec34a3862a3347fbba49ada4b93799d2",
            "max": 570,
            "min": 0,
            "orientation": "horizontal",
            "style": "IPY_MODEL_b4639e303e544deca06b685e0f2a50ff",
            "value": 570
          }
        },
        "9907ddeb84b549b29fe68028f5974999": {
          "model_module": "@jupyter-widgets/base",
          "model_module_version": "1.2.0",
          "model_name": "LayoutModel",
          "state": {
            "_model_module": "@jupyter-widgets/base",
            "_model_module_version": "1.2.0",
            "_model_name": "LayoutModel",
            "_view_count": null,
            "_view_module": "@jupyter-widgets/base",
            "_view_module_version": "1.2.0",
            "_view_name": "LayoutView",
            "align_content": null,
            "align_items": null,
            "align_self": null,
            "border": null,
            "bottom": null,
            "display": null,
            "flex": null,
            "flex_flow": null,
            "grid_area": null,
            "grid_auto_columns": null,
            "grid_auto_flow": null,
            "grid_auto_rows": null,
            "grid_column": null,
            "grid_gap": null,
            "grid_row": null,
            "grid_template_areas": null,
            "grid_template_columns": null,
            "grid_template_rows": null,
            "height": null,
            "justify_content": null,
            "justify_items": null,
            "left": null,
            "margin": null,
            "max_height": null,
            "max_width": null,
            "min_height": null,
            "min_width": null,
            "object_fit": null,
            "object_position": null,
            "order": null,
            "overflow": null,
            "overflow_x": null,
            "overflow_y": null,
            "padding": null,
            "right": null,
            "top": null,
            "visibility": null,
            "width": null
          }
        },
        "9d318ec1b0934d279327bf6c78fcb321": {
          "model_module": "@jupyter-widgets/base",
          "model_module_version": "1.2.0",
          "model_name": "LayoutModel",
          "state": {
            "_model_module": "@jupyter-widgets/base",
            "_model_module_version": "1.2.0",
            "_model_name": "LayoutModel",
            "_view_count": null,
            "_view_module": "@jupyter-widgets/base",
            "_view_module_version": "1.2.0",
            "_view_name": "LayoutView",
            "align_content": null,
            "align_items": null,
            "align_self": null,
            "border": null,
            "bottom": null,
            "display": null,
            "flex": null,
            "flex_flow": null,
            "grid_area": null,
            "grid_auto_columns": null,
            "grid_auto_flow": null,
            "grid_auto_rows": null,
            "grid_column": null,
            "grid_gap": null,
            "grid_row": null,
            "grid_template_areas": null,
            "grid_template_columns": null,
            "grid_template_rows": null,
            "height": null,
            "justify_content": null,
            "justify_items": null,
            "left": null,
            "margin": null,
            "max_height": null,
            "max_width": null,
            "min_height": null,
            "min_width": null,
            "object_fit": null,
            "object_position": null,
            "order": null,
            "overflow": null,
            "overflow_x": null,
            "overflow_y": null,
            "padding": null,
            "right": null,
            "top": null,
            "visibility": null,
            "width": null
          }
        },
        "9e0afb60ca4d4ef895ca56aadafe6264": {
          "model_module": "@jupyter-widgets/base",
          "model_module_version": "1.2.0",
          "model_name": "LayoutModel",
          "state": {
            "_model_module": "@jupyter-widgets/base",
            "_model_module_version": "1.2.0",
            "_model_name": "LayoutModel",
            "_view_count": null,
            "_view_module": "@jupyter-widgets/base",
            "_view_module_version": "1.2.0",
            "_view_name": "LayoutView",
            "align_content": null,
            "align_items": null,
            "align_self": null,
            "border": null,
            "bottom": null,
            "display": null,
            "flex": null,
            "flex_flow": null,
            "grid_area": null,
            "grid_auto_columns": null,
            "grid_auto_flow": null,
            "grid_auto_rows": null,
            "grid_column": null,
            "grid_gap": null,
            "grid_row": null,
            "grid_template_areas": null,
            "grid_template_columns": null,
            "grid_template_rows": null,
            "height": null,
            "justify_content": null,
            "justify_items": null,
            "left": null,
            "margin": null,
            "max_height": null,
            "max_width": null,
            "min_height": null,
            "min_width": null,
            "object_fit": null,
            "object_position": null,
            "order": null,
            "overflow": null,
            "overflow_x": null,
            "overflow_y": null,
            "padding": null,
            "right": null,
            "top": null,
            "visibility": null,
            "width": null
          }
        },
        "a581a4dc23634edf8f955346f713e264": {
          "model_module": "@jupyter-widgets/base",
          "model_module_version": "1.2.0",
          "model_name": "LayoutModel",
          "state": {
            "_model_module": "@jupyter-widgets/base",
            "_model_module_version": "1.2.0",
            "_model_name": "LayoutModel",
            "_view_count": null,
            "_view_module": "@jupyter-widgets/base",
            "_view_module_version": "1.2.0",
            "_view_name": "LayoutView",
            "align_content": null,
            "align_items": null,
            "align_self": null,
            "border": null,
            "bottom": null,
            "display": null,
            "flex": null,
            "flex_flow": null,
            "grid_area": null,
            "grid_auto_columns": null,
            "grid_auto_flow": null,
            "grid_auto_rows": null,
            "grid_column": null,
            "grid_gap": null,
            "grid_row": null,
            "grid_template_areas": null,
            "grid_template_columns": null,
            "grid_template_rows": null,
            "height": null,
            "justify_content": null,
            "justify_items": null,
            "left": null,
            "margin": null,
            "max_height": null,
            "max_width": null,
            "min_height": null,
            "min_width": null,
            "object_fit": null,
            "object_position": null,
            "order": null,
            "overflow": null,
            "overflow_x": null,
            "overflow_y": null,
            "padding": null,
            "right": null,
            "top": null,
            "visibility": null,
            "width": null
          }
        },
        "ab6b2dcd4e4648a5a3cc7864a7ad4549": {
          "model_module": "@jupyter-widgets/controls",
          "model_module_version": "1.5.0",
          "model_name": "DescriptionStyleModel",
          "state": {
            "_model_module": "@jupyter-widgets/controls",
            "_model_module_version": "1.5.0",
            "_model_name": "DescriptionStyleModel",
            "_view_count": null,
            "_view_module": "@jupyter-widgets/base",
            "_view_module_version": "1.2.0",
            "_view_name": "StyleView",
            "description_width": ""
          }
        },
        "b00780427bbf42f49b72354079a10fcf": {
          "model_module": "@jupyter-widgets/controls",
          "model_module_version": "1.5.0",
          "model_name": "HTMLModel",
          "state": {
            "_dom_classes": [],
            "_model_module": "@jupyter-widgets/controls",
            "_model_module_version": "1.5.0",
            "_model_name": "HTMLModel",
            "_view_count": null,
            "_view_module": "@jupyter-widgets/controls",
            "_view_module_version": "1.5.0",
            "_view_name": "HTMLView",
            "description": "",
            "description_tooltip": null,
            "layout": "IPY_MODEL_9907ddeb84b549b29fe68028f5974999",
            "placeholder": "​",
            "style": "IPY_MODEL_d30a88b4e11f4fe893592eacfdd8969d",
            "value": " 48.0/48.0 [00:00&lt;00:00, 2.88kB/s]"
          }
        },
        "b43dc2b460d047e39272f53b92ad8b40": {
          "model_module": "@jupyter-widgets/controls",
          "model_module_version": "1.5.0",
          "model_name": "DescriptionStyleModel",
          "state": {
            "_model_module": "@jupyter-widgets/controls",
            "_model_module_version": "1.5.0",
            "_model_name": "DescriptionStyleModel",
            "_view_count": null,
            "_view_module": "@jupyter-widgets/base",
            "_view_module_version": "1.2.0",
            "_view_name": "StyleView",
            "description_width": ""
          }
        },
        "b4639e303e544deca06b685e0f2a50ff": {
          "model_module": "@jupyter-widgets/controls",
          "model_module_version": "1.5.0",
          "model_name": "ProgressStyleModel",
          "state": {
            "_model_module": "@jupyter-widgets/controls",
            "_model_module_version": "1.5.0",
            "_model_name": "ProgressStyleModel",
            "_view_count": null,
            "_view_module": "@jupyter-widgets/base",
            "_view_module_version": "1.2.0",
            "_view_name": "StyleView",
            "bar_color": null,
            "description_width": ""
          }
        },
        "b790c76ba6c94c00b1d54e8e7320b590": {
          "model_module": "@jupyter-widgets/base",
          "model_module_version": "1.2.0",
          "model_name": "LayoutModel",
          "state": {
            "_model_module": "@jupyter-widgets/base",
            "_model_module_version": "1.2.0",
            "_model_name": "LayoutModel",
            "_view_count": null,
            "_view_module": "@jupyter-widgets/base",
            "_view_module_version": "1.2.0",
            "_view_name": "LayoutView",
            "align_content": null,
            "align_items": null,
            "align_self": null,
            "border": null,
            "bottom": null,
            "display": null,
            "flex": null,
            "flex_flow": null,
            "grid_area": null,
            "grid_auto_columns": null,
            "grid_auto_flow": null,
            "grid_auto_rows": null,
            "grid_column": null,
            "grid_gap": null,
            "grid_row": null,
            "grid_template_areas": null,
            "grid_template_columns": null,
            "grid_template_rows": null,
            "height": null,
            "justify_content": null,
            "justify_items": null,
            "left": null,
            "margin": null,
            "max_height": null,
            "max_width": null,
            "min_height": null,
            "min_width": null,
            "object_fit": null,
            "object_position": null,
            "order": null,
            "overflow": null,
            "overflow_x": null,
            "overflow_y": null,
            "padding": null,
            "right": null,
            "top": null,
            "visibility": null,
            "width": null
          }
        },
        "bcf9b88654134dc6a30e8e9533aa7870": {
          "model_module": "@jupyter-widgets/controls",
          "model_module_version": "1.5.0",
          "model_name": "ProgressStyleModel",
          "state": {
            "_model_module": "@jupyter-widgets/controls",
            "_model_module_version": "1.5.0",
            "_model_name": "ProgressStyleModel",
            "_view_count": null,
            "_view_module": "@jupyter-widgets/base",
            "_view_module_version": "1.2.0",
            "_view_name": "StyleView",
            "bar_color": null,
            "description_width": ""
          }
        },
        "bed6372c3e0c48729be2ced57f6458fd": {
          "model_module": "@jupyter-widgets/controls",
          "model_module_version": "1.5.0",
          "model_name": "DescriptionStyleModel",
          "state": {
            "_model_module": "@jupyter-widgets/controls",
            "_model_module_version": "1.5.0",
            "_model_name": "DescriptionStyleModel",
            "_view_count": null,
            "_view_module": "@jupyter-widgets/base",
            "_view_module_version": "1.2.0",
            "_view_name": "StyleView",
            "description_width": ""
          }
        },
        "c18ea5029df54d44a0e3bddc3f4b02c5": {
          "model_module": "@jupyter-widgets/controls",
          "model_module_version": "1.5.0",
          "model_name": "HTMLModel",
          "state": {
            "_dom_classes": [],
            "_model_module": "@jupyter-widgets/controls",
            "_model_module_version": "1.5.0",
            "_model_name": "HTMLModel",
            "_view_count": null,
            "_view_module": "@jupyter-widgets/controls",
            "_view_module_version": "1.5.0",
            "_view_name": "HTMLView",
            "description": "",
            "description_tooltip": null,
            "layout": "IPY_MODEL_cb866601e665458ca4c7a444cce3a2fa",
            "placeholder": "​",
            "style": "IPY_MODEL_bed6372c3e0c48729be2ced57f6458fd",
            "value": "model.safetensors: 100%"
          }
        },
        "c2e7ab89697148ad950f5dcaa44ac5f2": {
          "model_module": "@jupyter-widgets/controls",
          "model_module_version": "1.5.0",
          "model_name": "HBoxModel",
          "state": {
            "_dom_classes": [],
            "_model_module": "@jupyter-widgets/controls",
            "_model_module_version": "1.5.0",
            "_model_name": "HBoxModel",
            "_view_count": null,
            "_view_module": "@jupyter-widgets/controls",
            "_view_module_version": "1.5.0",
            "_view_name": "HBoxView",
            "box_style": "",
            "children": [
              "IPY_MODEL_c4f6bf937f9f4aec9fad451a9d37cbd7",
              "IPY_MODEL_7b5fa6bbb6094686aba0fb535a9c6b08",
              "IPY_MODEL_f8fb35f08bf2436cb341f1d18a5ac1a7"
            ],
            "layout": "IPY_MODEL_2d12482df373432f8bfc02b39c03da6b"
          }
        },
        "c4f6bf937f9f4aec9fad451a9d37cbd7": {
          "model_module": "@jupyter-widgets/controls",
          "model_module_version": "1.5.0",
          "model_name": "HTMLModel",
          "state": {
            "_dom_classes": [],
            "_model_module": "@jupyter-widgets/controls",
            "_model_module_version": "1.5.0",
            "_model_name": "HTMLModel",
            "_view_count": null,
            "_view_module": "@jupyter-widgets/controls",
            "_view_module_version": "1.5.0",
            "_view_name": "HTMLView",
            "description": "",
            "description_tooltip": null,
            "layout": "IPY_MODEL_b790c76ba6c94c00b1d54e8e7320b590",
            "placeholder": "​",
            "style": "IPY_MODEL_fbcf8d65726f4deeaa6668bb90109340",
            "value": "tokenizer.json: 100%"
          }
        },
        "cb866601e665458ca4c7a444cce3a2fa": {
          "model_module": "@jupyter-widgets/base",
          "model_module_version": "1.2.0",
          "model_name": "LayoutModel",
          "state": {
            "_model_module": "@jupyter-widgets/base",
            "_model_module_version": "1.2.0",
            "_model_name": "LayoutModel",
            "_view_count": null,
            "_view_module": "@jupyter-widgets/base",
            "_view_module_version": "1.2.0",
            "_view_name": "LayoutView",
            "align_content": null,
            "align_items": null,
            "align_self": null,
            "border": null,
            "bottom": null,
            "display": null,
            "flex": null,
            "flex_flow": null,
            "grid_area": null,
            "grid_auto_columns": null,
            "grid_auto_flow": null,
            "grid_auto_rows": null,
            "grid_column": null,
            "grid_gap": null,
            "grid_row": null,
            "grid_template_areas": null,
            "grid_template_columns": null,
            "grid_template_rows": null,
            "height": null,
            "justify_content": null,
            "justify_items": null,
            "left": null,
            "margin": null,
            "max_height": null,
            "max_width": null,
            "min_height": null,
            "min_width": null,
            "object_fit": null,
            "object_position": null,
            "order": null,
            "overflow": null,
            "overflow_x": null,
            "overflow_y": null,
            "padding": null,
            "right": null,
            "top": null,
            "visibility": null,
            "width": null
          }
        },
        "cee2d0b945854df9b72e095c81941c38": {
          "model_module": "@jupyter-widgets/controls",
          "model_module_version": "1.5.0",
          "model_name": "ProgressStyleModel",
          "state": {
            "_model_module": "@jupyter-widgets/controls",
            "_model_module_version": "1.5.0",
            "_model_name": "ProgressStyleModel",
            "_view_count": null,
            "_view_module": "@jupyter-widgets/base",
            "_view_module_version": "1.2.0",
            "_view_name": "StyleView",
            "bar_color": null,
            "description_width": ""
          }
        },
        "d05f3f2aec3d432392b8780b847eaa39": {
          "model_module": "@jupyter-widgets/controls",
          "model_module_version": "1.5.0",
          "model_name": "HTMLModel",
          "state": {
            "_dom_classes": [],
            "_model_module": "@jupyter-widgets/controls",
            "_model_module_version": "1.5.0",
            "_model_name": "HTMLModel",
            "_view_count": null,
            "_view_module": "@jupyter-widgets/controls",
            "_view_module_version": "1.5.0",
            "_view_name": "HTMLView",
            "description": "",
            "description_tooltip": null,
            "layout": "IPY_MODEL_3b0931912ce2493da35861e27e280988",
            "placeholder": "​",
            "style": "IPY_MODEL_fed68de71fc04558978e937ae122a251",
            "value": "vocab.txt: 100%"
          }
        },
        "d30a88b4e11f4fe893592eacfdd8969d": {
          "model_module": "@jupyter-widgets/controls",
          "model_module_version": "1.5.0",
          "model_name": "DescriptionStyleModel",
          "state": {
            "_model_module": "@jupyter-widgets/controls",
            "_model_module_version": "1.5.0",
            "_model_name": "DescriptionStyleModel",
            "_view_count": null,
            "_view_module": "@jupyter-widgets/base",
            "_view_module_version": "1.2.0",
            "_view_name": "StyleView",
            "description_width": ""
          }
        },
        "d5512edb1ffb48f28eaeee77c24f4535": {
          "model_module": "@jupyter-widgets/controls",
          "model_module_version": "1.5.0",
          "model_name": "FloatProgressModel",
          "state": {
            "_dom_classes": [],
            "_model_module": "@jupyter-widgets/controls",
            "_model_module_version": "1.5.0",
            "_model_name": "FloatProgressModel",
            "_view_count": null,
            "_view_module": "@jupyter-widgets/controls",
            "_view_module_version": "1.5.0",
            "_view_name": "ProgressView",
            "bar_style": "success",
            "description": "",
            "description_tooltip": null,
            "layout": "IPY_MODEL_0fbc212d4f3a4253815f2c92b9bb7c89",
            "max": 48,
            "min": 0,
            "orientation": "horizontal",
            "style": "IPY_MODEL_1423850da7014cc180c63a05e41a1607",
            "value": 48
          }
        },
        "d9a5c821d09e4aa597b9b1ee74497f1b": {
          "model_module": "@jupyter-widgets/controls",
          "model_module_version": "1.5.0",
          "model_name": "HBoxModel",
          "state": {
            "_dom_classes": [],
            "_model_module": "@jupyter-widgets/controls",
            "_model_module_version": "1.5.0",
            "_model_name": "HBoxModel",
            "_view_count": null,
            "_view_module": "@jupyter-widgets/controls",
            "_view_module_version": "1.5.0",
            "_view_name": "HBoxView",
            "box_style": "",
            "children": [
              "IPY_MODEL_d05f3f2aec3d432392b8780b847eaa39",
              "IPY_MODEL_17888e5bbd8740c1b58ec79622cc563e",
              "IPY_MODEL_1551e484091d481da29beb706a2dccf1"
            ],
            "layout": "IPY_MODEL_e2dd53eb395f4b8f9a83be384df0f203"
          }
        },
        "e2dd53eb395f4b8f9a83be384df0f203": {
          "model_module": "@jupyter-widgets/base",
          "model_module_version": "1.2.0",
          "model_name": "LayoutModel",
          "state": {
            "_model_module": "@jupyter-widgets/base",
            "_model_module_version": "1.2.0",
            "_model_name": "LayoutModel",
            "_view_count": null,
            "_view_module": "@jupyter-widgets/base",
            "_view_module_version": "1.2.0",
            "_view_name": "LayoutView",
            "align_content": null,
            "align_items": null,
            "align_self": null,
            "border": null,
            "bottom": null,
            "display": null,
            "flex": null,
            "flex_flow": null,
            "grid_area": null,
            "grid_auto_columns": null,
            "grid_auto_flow": null,
            "grid_auto_rows": null,
            "grid_column": null,
            "grid_gap": null,
            "grid_row": null,
            "grid_template_areas": null,
            "grid_template_columns": null,
            "grid_template_rows": null,
            "height": null,
            "justify_content": null,
            "justify_items": null,
            "left": null,
            "margin": null,
            "max_height": null,
            "max_width": null,
            "min_height": null,
            "min_width": null,
            "object_fit": null,
            "object_position": null,
            "order": null,
            "overflow": null,
            "overflow_x": null,
            "overflow_y": null,
            "padding": null,
            "right": null,
            "top": null,
            "visibility": null,
            "width": null
          }
        },
        "ec34a3862a3347fbba49ada4b93799d2": {
          "model_module": "@jupyter-widgets/base",
          "model_module_version": "1.2.0",
          "model_name": "LayoutModel",
          "state": {
            "_model_module": "@jupyter-widgets/base",
            "_model_module_version": "1.2.0",
            "_model_name": "LayoutModel",
            "_view_count": null,
            "_view_module": "@jupyter-widgets/base",
            "_view_module_version": "1.2.0",
            "_view_name": "LayoutView",
            "align_content": null,
            "align_items": null,
            "align_self": null,
            "border": null,
            "bottom": null,
            "display": null,
            "flex": null,
            "flex_flow": null,
            "grid_area": null,
            "grid_auto_columns": null,
            "grid_auto_flow": null,
            "grid_auto_rows": null,
            "grid_column": null,
            "grid_gap": null,
            "grid_row": null,
            "grid_template_areas": null,
            "grid_template_columns": null,
            "grid_template_rows": null,
            "height": null,
            "justify_content": null,
            "justify_items": null,
            "left": null,
            "margin": null,
            "max_height": null,
            "max_width": null,
            "min_height": null,
            "min_width": null,
            "object_fit": null,
            "object_position": null,
            "order": null,
            "overflow": null,
            "overflow_x": null,
            "overflow_y": null,
            "padding": null,
            "right": null,
            "top": null,
            "visibility": null,
            "width": null
          }
        },
        "ec893c35a30a42638de0aa204bd77ef8": {
          "model_module": "@jupyter-widgets/controls",
          "model_module_version": "1.5.0",
          "model_name": "DescriptionStyleModel",
          "state": {
            "_model_module": "@jupyter-widgets/controls",
            "_model_module_version": "1.5.0",
            "_model_name": "DescriptionStyleModel",
            "_view_count": null,
            "_view_module": "@jupyter-widgets/base",
            "_view_module_version": "1.2.0",
            "_view_name": "StyleView",
            "description_width": ""
          }
        },
        "f7306cbe4f014ff9be9377f451bd3328": {
          "model_module": "@jupyter-widgets/controls",
          "model_module_version": "1.5.0",
          "model_name": "FloatProgressModel",
          "state": {
            "_dom_classes": [],
            "_model_module": "@jupyter-widgets/controls",
            "_model_module_version": "1.5.0",
            "_model_name": "FloatProgressModel",
            "_view_count": null,
            "_view_module": "@jupyter-widgets/controls",
            "_view_module_version": "1.5.0",
            "_view_name": "ProgressView",
            "bar_style": "success",
            "description": "",
            "description_tooltip": null,
            "layout": "IPY_MODEL_9e0afb60ca4d4ef895ca56aadafe6264",
            "max": 440449768,
            "min": 0,
            "orientation": "horizontal",
            "style": "IPY_MODEL_bcf9b88654134dc6a30e8e9533aa7870",
            "value": 440449768
          }
        },
        "f8fb35f08bf2436cb341f1d18a5ac1a7": {
          "model_module": "@jupyter-widgets/controls",
          "model_module_version": "1.5.0",
          "model_name": "HTMLModel",
          "state": {
            "_dom_classes": [],
            "_model_module": "@jupyter-widgets/controls",
            "_model_module_version": "1.5.0",
            "_model_name": "HTMLModel",
            "_view_count": null,
            "_view_module": "@jupyter-widgets/controls",
            "_view_module_version": "1.5.0",
            "_view_name": "HTMLView",
            "description": "",
            "description_tooltip": null,
            "layout": "IPY_MODEL_fbccadf71d3940c1a5545f026f5cac70",
            "placeholder": "​",
            "style": "IPY_MODEL_ec893c35a30a42638de0aa204bd77ef8",
            "value": " 466k/466k [00:00&lt;00:00, 19.9MB/s]"
          }
        },
        "faa69149c7fb4252aa6b8c143d118b60": {
          "model_module": "@jupyter-widgets/controls",
          "model_module_version": "1.5.0",
          "model_name": "HBoxModel",
          "state": {
            "_dom_classes": [],
            "_model_module": "@jupyter-widgets/controls",
            "_model_module_version": "1.5.0",
            "_model_name": "HBoxModel",
            "_view_count": null,
            "_view_module": "@jupyter-widgets/controls",
            "_view_module_version": "1.5.0",
            "_view_name": "HBoxView",
            "box_style": "",
            "children": [
              "IPY_MODEL_0cfb89640a4f41a3a08630aa91ad6393",
              "IPY_MODEL_d5512edb1ffb48f28eaeee77c24f4535",
              "IPY_MODEL_b00780427bbf42f49b72354079a10fcf"
            ],
            "layout": "IPY_MODEL_929123328e6744af92441af12b5c0371"
          }
        },
        "fbccadf71d3940c1a5545f026f5cac70": {
          "model_module": "@jupyter-widgets/base",
          "model_module_version": "1.2.0",
          "model_name": "LayoutModel",
          "state": {
            "_model_module": "@jupyter-widgets/base",
            "_model_module_version": "1.2.0",
            "_model_name": "LayoutModel",
            "_view_count": null,
            "_view_module": "@jupyter-widgets/base",
            "_view_module_version": "1.2.0",
            "_view_name": "LayoutView",
            "align_content": null,
            "align_items": null,
            "align_self": null,
            "border": null,
            "bottom": null,
            "display": null,
            "flex": null,
            "flex_flow": null,
            "grid_area": null,
            "grid_auto_columns": null,
            "grid_auto_flow": null,
            "grid_auto_rows": null,
            "grid_column": null,
            "grid_gap": null,
            "grid_row": null,
            "grid_template_areas": null,
            "grid_template_columns": null,
            "grid_template_rows": null,
            "height": null,
            "justify_content": null,
            "justify_items": null,
            "left": null,
            "margin": null,
            "max_height": null,
            "max_width": null,
            "min_height": null,
            "min_width": null,
            "object_fit": null,
            "object_position": null,
            "order": null,
            "overflow": null,
            "overflow_x": null,
            "overflow_y": null,
            "padding": null,
            "right": null,
            "top": null,
            "visibility": null,
            "width": null
          }
        },
        "fbcf8d65726f4deeaa6668bb90109340": {
          "model_module": "@jupyter-widgets/controls",
          "model_module_version": "1.5.0",
          "model_name": "DescriptionStyleModel",
          "state": {
            "_model_module": "@jupyter-widgets/controls",
            "_model_module_version": "1.5.0",
            "_model_name": "DescriptionStyleModel",
            "_view_count": null,
            "_view_module": "@jupyter-widgets/base",
            "_view_module_version": "1.2.0",
            "_view_name": "StyleView",
            "description_width": ""
          }
        },
        "fe0a6dd4e86b4630806e1f269be2d2fa": {
          "model_module": "@jupyter-widgets/base",
          "model_module_version": "1.2.0",
          "model_name": "LayoutModel",
          "state": {
            "_model_module": "@jupyter-widgets/base",
            "_model_module_version": "1.2.0",
            "_model_name": "LayoutModel",
            "_view_count": null,
            "_view_module": "@jupyter-widgets/base",
            "_view_module_version": "1.2.0",
            "_view_name": "LayoutView",
            "align_content": null,
            "align_items": null,
            "align_self": null,
            "border": null,
            "bottom": null,
            "display": null,
            "flex": null,
            "flex_flow": null,
            "grid_area": null,
            "grid_auto_columns": null,
            "grid_auto_flow": null,
            "grid_auto_rows": null,
            "grid_column": null,
            "grid_gap": null,
            "grid_row": null,
            "grid_template_areas": null,
            "grid_template_columns": null,
            "grid_template_rows": null,
            "height": null,
            "justify_content": null,
            "justify_items": null,
            "left": null,
            "margin": null,
            "max_height": null,
            "max_width": null,
            "min_height": null,
            "min_width": null,
            "object_fit": null,
            "object_position": null,
            "order": null,
            "overflow": null,
            "overflow_x": null,
            "overflow_y": null,
            "padding": null,
            "right": null,
            "top": null,
            "visibility": null,
            "width": null
          }
        },
        "fed68de71fc04558978e937ae122a251": {
          "model_module": "@jupyter-widgets/controls",
          "model_module_version": "1.5.0",
          "model_name": "DescriptionStyleModel",
          "state": {
            "_model_module": "@jupyter-widgets/controls",
            "_model_module_version": "1.5.0",
            "_model_name": "DescriptionStyleModel",
            "_view_count": null,
            "_view_module": "@jupyter-widgets/base",
            "_view_module_version": "1.2.0",
            "_view_name": "StyleView",
            "description_width": ""
          }
        }
      }
    }
  },
  "nbformat": 4,
  "nbformat_minor": 0
}
